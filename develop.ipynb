{
 "cells": [
  {
   "cell_type": "code",
   "execution_count": 1,
   "metadata": {
    "collapsed": false
   },
   "outputs": [],
   "source": [
    "%load_ext autoreload\n",
    "%autoreload 2"
   ]
  },
  {
   "cell_type": "code",
   "execution_count": 1,
   "metadata": {
    "collapsed": false
   },
   "outputs": [],
   "source": [
    "import dataneeds as need"
   ]
  },
  {
   "cell_type": "code",
   "execution_count": 2,
   "metadata": {
    "collapsed": false
   },
   "outputs": [
    {
     "name": "stdout",
     "output_type": "stream",
     "text": [
      "Sep(',', 2) >> Cons(Node().id:Number, Node().label:String, Sep(',', 0)>>Each) []\n",
      "Cons(Node().id:Number, Node().label:String, Sep(',', 0)>>Each) >> Node().id: Number\n",
      "Cons(Node().id:Number, Node().label:String, Sep(',', 0)>>Each) >> Node().label: String\n",
      "Cons(Node().id:Number, Node().label:String, Sep(',', 0)>>Each) >> <dataneeds.formats.Sep object at 0x7f150c3b1470>\n",
      "Sep(',', 0) >> Cons(Edge().id:Number, Edge().weight:Number, Edge.source->Node().id, Edge.target->Node().id) []\n",
      "Cons(Edge().id:Number, Edge().weight:Number, Edge.source->Node().id, Edge.target->Node().id) >> Edge().id: Number\n",
      "Cons(Edge().id:Number, Edge().weight:Number, Edge.source->Node().id, Edge.target->Node().id) >> Edge().weight: Number\n",
      "Cons(Edge().id:Number, Edge().weight:Number, Edge.source->Node().id, Edge.target->Node().id) >> Edge.source->Node().id\n",
      "Cons(Edge().id:Number, Edge().weight:Number, Edge.source->Node().id, Edge.target->Node().id) >> Edge.target->Node().id\n",
      "Sep(':', 0) >> Cons(Both, Edge().weight:Number, Edge.target->Node().id) []\n",
      "Cons(Both, Edge().weight:Number, Edge.target->Node().id) >> Both\n",
      "Cons(Both, Edge().weight:Number, Edge.target->Node().id) >> Edge().weight: Number\n",
      "Cons(Both, Edge().weight:Number, Edge.target->Node().id) >> Edge.target->Node().id\n",
      "Cons(Both, Node().label:String, Sep(',', 0)) >> Each(<dataneeds.formats.Sep object at 0x7f150c3b17b8> >> Cons(Both, Edge().weight:Number, Edge.target->Node().id))\n",
      "Sep(',', 2) >> Cons(Both, Node().label:String, Sep(',', 0)) [Each(<dataneeds.formats.Sep object at 0x7f150c3b17b8> >> Cons(Both, Edge().weight:Number, Edge.target->Node().id))]\n",
      "Cons(Both, Node().label:String, Sep(',', 0)) >> Both\n",
      "Cons(Both, Node().label:String, Sep(',', 0)) >> Node().label: String\n",
      "Cons(Both, Node().label:String, Sep(',', 0)) >> <dataneeds.formats.Sep object at 0x7f150c3b1860>\n"
     ]
    }
   ],
   "source": [
    "%run dataneeds/tests/graph.py"
   ]
  },
  {
   "cell_type": "code",
   "execution_count": 3,
   "metadata": {
    "collapsed": false
   },
   "outputs": [
    {
     "data": {
      "text/plain": [
       "<dataneeds.binds.Bindings at 0x7f150e59ee80>"
      ]
     },
     "execution_count": 3,
     "metadata": {},
     "output_type": "execute_result"
    }
   ],
   "source": [
    "Node.edges.bindings"
   ]
  },
  {
   "cell_type": "code",
   "execution_count": 4,
   "metadata": {
    "collapsed": false
   },
   "outputs": [
    {
     "data": {
      "text/plain": [
       "[(dataneeds/tests/*.nlf >> Sep(',', 2) >> Cons >> Node().id:Number,\n",
       "  dataneeds/tests/*.nlf >> Sep(',', 2) >> Cons >> Node().label:String),\n",
       " (dataneeds/tests/*.nef >> Sep(',', 2) >> Cons >> Both >> Node().id:Number,\n",
       "  dataneeds/tests/*.nef >> Sep(',', 2) >> Cons >> Node().label:String)]"
      ]
     },
     "execution_count": 4,
     "metadata": {},
     "output_type": "execute_result"
    }
   ],
   "source": [
    "with need.request(Node()) as N:\n",
    "    N.id, N.label#, N.edges.id\n",
    "rs = N.resolve()\n",
    "rs"
   ]
  },
  {
   "cell_type": "code",
   "execution_count": 5,
   "metadata": {
    "collapsed": false
   },
   "outputs": [
    {
     "data": {
      "text/plain": [
       "(dataneeds/tests/*.nlf >> Sep(',', 2) >> Cons >> Node().id:Number,\n",
       " dataneeds/tests/*.nlf >> Sep(',', 2) >> Cons >> Node().label:String)"
      ]
     },
     "execution_count": 5,
     "metadata": {},
     "output_type": "execute_result"
    }
   ],
   "source": [
    "a,b = rs\n",
    "a"
   ]
  },
  {
   "cell_type": "code",
   "execution_count": 6,
   "metadata": {
    "collapsed": false
   },
   "outputs": [
    {
     "data": {
      "text/plain": [
       "Cons(Node().id:Number, Node().label:String, Sep(',', 0)>>Each)"
      ]
     },
     "execution_count": 6,
     "metadata": {},
     "output_type": "execute_result"
    }
   ],
   "source": [
    "a[0].input"
   ]
  },
  {
   "cell_type": "code",
   "execution_count": 7,
   "metadata": {
    "collapsed": false
   },
   "outputs": [
    {
     "data": {
      "text/plain": [
       "{'files': {'sep': {'cons': {'Node.id': {}, 'Node.label': {}}}}}"
      ]
     },
     "execution_count": 7,
     "metadata": {},
     "output_type": "execute_result"
    }
   ],
   "source": [
    "{'files': {'sep': {'cons': {'Node.label': {}, 'Node.id': {}}}}}"
   ]
  },
  {
   "cell_type": "code",
   "execution_count": 8,
   "metadata": {
    "collapsed": false
   },
   "outputs": [
    {
     "ename": "ValueError",
     "evalue": "too many values to unpack (expected 1)",
     "output_type": "error",
     "traceback": [
      "\u001b[1;31m---------------------------------------------------------------------------\u001b[0m",
      "\u001b[1;31mValueError\u001b[0m                                Traceback (most recent call last)",
      "\u001b[1;32m<ipython-input-8-eb9f4bf1beaf>\u001b[0m in \u001b[0;36m<module>\u001b[1;34m()\u001b[0m\n\u001b[0;32m      2\u001b[0m     \u001b[0mE\u001b[0m\u001b[1;33m.\u001b[0m\u001b[0mid\u001b[0m\u001b[1;33m,\u001b[0m \u001b[0mE\u001b[0m\u001b[1;33m.\u001b[0m\u001b[0mweight\u001b[0m\u001b[1;33m,\u001b[0m \u001b[0mE\u001b[0m\u001b[1;33m.\u001b[0m\u001b[0msource\u001b[0m\u001b[1;33m.\u001b[0m\u001b[0mlabel\u001b[0m\u001b[1;33m\u001b[0m\u001b[0m\n\u001b[0;32m      3\u001b[0m \u001b[0mrs\u001b[0m \u001b[1;33m=\u001b[0m \u001b[0mE\u001b[0m\u001b[1;33m.\u001b[0m\u001b[0mresolve\u001b[0m\u001b[1;33m(\u001b[0m\u001b[1;33m)\u001b[0m\u001b[1;33m\u001b[0m\u001b[0m\n\u001b[1;32m----> 4\u001b[1;33m \u001b[0mr\u001b[0m\u001b[1;33m,\u001b[0m \u001b[1;33m=\u001b[0m \u001b[0mrs\u001b[0m\u001b[1;33m\u001b[0m\u001b[0m\n\u001b[0m\u001b[0;32m      5\u001b[0m \u001b[0mr\u001b[0m\u001b[1;33m\u001b[0m\u001b[0m\n",
      "\u001b[1;31mValueError\u001b[0m: too many values to unpack (expected 1)"
     ]
    }
   ],
   "source": [
    "with need.request(Edge()) as E:\n",
    "    E.id, E.weight, E.source.label\n",
    "rs = E.resolve()\n",
    "r, = rs\n",
    "r"
   ]
  },
  {
   "cell_type": "code",
   "execution_count": 9,
   "metadata": {
    "collapsed": false
   },
   "outputs": [],
   "source": [
    "from dataneeds.engine.dask_bag import DaskBagEngine"
   ]
  },
  {
   "cell_type": "code",
   "execution_count": 10,
   "metadata": {
    "collapsed": false,
    "scrolled": false
   },
   "outputs": [
    {
     "name": "stdout",
     "output_type": "stream",
     "text": [
      "Node().id: Number 0 Cons(Node().id:Number, Node().label:String, Sep(',', 0)>>Each) 3\n",
      "Node().label: String 1 Cons(Node().id:Number, Node().label:String, Sep(',', 0)>>Each) 3\n"
     ]
    },
    {
     "data": {
      "text/plain": [
       "<dask.bag.core.Bag at 0x7f14ea768fd0>"
      ]
     },
     "execution_count": 10,
     "metadata": {},
     "output_type": "execute_result"
    }
   ],
   "source": [
    "bag = DaskBagEngine().resolve(a)\n",
    "bag"
   ]
  },
  {
   "cell_type": "code",
   "execution_count": 11,
   "metadata": {
    "collapsed": true
   },
   "outputs": [],
   "source": [
    "from dask.async import get_sync"
   ]
  },
  {
   "cell_type": "code",
   "execution_count": 12,
   "metadata": {
    "collapsed": false,
    "scrolled": false
   },
   "outputs": [
    {
     "data": {
      "text/plain": [
       "[(0, 'A'), (1, 'B'), (2, 'C')]"
      ]
     },
     "execution_count": 12,
     "metadata": {},
     "output_type": "execute_result"
    }
   ],
   "source": [
    "bag.compute(get=get_sync)"
   ]
  },
  {
   "cell_type": "code",
   "execution_count": 13,
   "metadata": {
    "collapsed": false
   },
   "outputs": [
    {
     "data": {
      "text/plain": [
       "[(0, 'A'), (1, 'B'), (2, 'C')]"
      ]
     },
     "execution_count": 13,
     "metadata": {},
     "output_type": "execute_result"
    }
   ],
   "source": [
    "bag.compute(get=get_sync)"
   ]
  },
  {
   "cell_type": "code",
   "execution_count": 14,
   "metadata": {
    "collapsed": false
   },
   "outputs": [],
   "source": [
    "str.split?"
   ]
  },
  {
   "cell_type": "markdown",
   "metadata": {},
   "source": [
    "```\n",
    "\\. tests/*.nef\n",
    "   >> Sep(',')\n",
    "      >> Cons\n",
    "         >> Node.label\n",
    "         >> Each\n",
    "            >> Sep('.')\n",
    "               >> Cons\n",
    "                  >> Edge.id\n",
    "                  >> Edge.weight \n",
    "|> from_files\n",
    "   |> map(str.sep, sep=',')\n",
    "      |> l= pluck(1)                \n",
    "      |> pluck(2)\n",
    "                         # explode\n",
    "                         db.zip(l, _.map(len)).map(lambda x: [x[0]]*x[1]) => shape it\n",
    "         |>                         .concat()\n",
    "            |> map(str.sep, sep='.')\n",
    "               |>                            .pluck(1)\n",
    "               |>                            .pluck(3)\n",
    "```"
   ]
  },
  {
   "cell_type": "code",
   "execution_count": 11,
   "metadata": {
    "collapsed": false
   },
   "outputs": [],
   "source": [
    "import dask.bag as db"
   ]
  },
  {
   "cell_type": "code",
   "execution_count": 99,
   "metadata": {
    "collapsed": false
   },
   "outputs": [],
   "source": [
    "files = db.from_filenames('dataneeds/tests/*.nef').map(str.strip)\n",
    "sep = files.map(lambda x: x.split(',', 2))\n",
    "\n",
    "labels = sep.pluck(1)\n",
    "\n",
    "rest = sep.pluck(2)\n",
    "lst = rest.map(lambda x: x.split(',') if x else [])\n",
    "weights = lst.concat().map(lambda ls: ls.split(':')).pluck(1)\n",
    "weights.compute()\n",
    "\n",
    "explode = db.zip(lst.map(len), labels).map(lambda a,b: a * [b]).concat()\n",
    "rq = db.zip(explode, weights)"
   ]
  },
  {
   "cell_type": "code",
   "execution_count": 100,
   "metadata": {
    "collapsed": false
   },
   "outputs": [
    {
     "data": {
      "text/plain": [
       "[('A', '.3'), ('A', '.2'), ('B', '.2'), ('B', '1.'), ('B', '.4')]"
      ]
     },
     "execution_count": 100,
     "metadata": {},
     "output_type": "execute_result"
    }
   ],
   "source": [
    "rq.compute()"
   ]
  },
  {
   "cell_type": "code",
   "execution_count": 101,
   "metadata": {
    "collapsed": false
   },
   "outputs": [
    {
     "data": {
      "text/plain": [
       "[['0:.3:1', '1:.2:2'], ['2:.2:0', '3:1.:1', '4:.4:2'], []]"
      ]
     },
     "execution_count": 101,
     "metadata": {},
     "output_type": "execute_result"
    }
   ],
   "source": [
    "lst.compute()"
   ]
  },
  {
   "cell_type": "code",
   "execution_count": null,
   "metadata": {
    "collapsed": true
   },
   "outputs": [],
   "source": []
  }
 ],
 "metadata": {
  "kernelspec": {
   "display_name": "Python 3",
   "language": "python",
   "name": "python3"
  },
  "language_info": {
   "codemirror_mode": {
    "name": "ipython",
    "version": 3
   },
   "file_extension": ".py",
   "mimetype": "text/x-python",
   "name": "python",
   "nbconvert_exporter": "python",
   "pygments_lexer": "ipython3",
   "version": "3.4.4"
  }
 },
 "nbformat": 4,
 "nbformat_minor": 0
}
