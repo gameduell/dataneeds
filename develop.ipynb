{
 "cells": [
  {
   "cell_type": "code",
   "execution_count": 1,
   "metadata": {
    "collapsed": false
   },
   "outputs": [],
   "source": [
    "%load_ext autoreload\n",
    "%autoreload 2"
   ]
  },
  {
   "cell_type": "code",
   "execution_count": 2,
   "metadata": {
    "collapsed": true
   },
   "outputs": [],
   "source": [
    "from dataneeds.engine.dask_bag import DaskBagEngine\n",
    "from dask.async import get_sync\n",
    "import dask.bag as db"
   ]
  },
  {
   "cell_type": "code",
   "execution_count": 3,
   "metadata": {
    "collapsed": false
   },
   "outputs": [],
   "source": [
    "import dataneeds as need\n",
    "from dataneeds.engine.dask_bag import DaskBagEngine"
   ]
  },
  {
   "cell_type": "code",
   "execution_count": 4,
   "metadata": {
    "collapsed": true
   },
   "outputs": [],
   "source": [
    "e = DaskBagEngine()"
   ]
  },
  {
   "cell_type": "code",
   "execution_count": 5,
   "metadata": {
    "collapsed": false
   },
   "outputs": [],
   "source": [
    "%run dataneeds/tests/graph.py"
   ]
  },
  {
   "cell_type": "code",
   "execution_count": 46,
   "metadata": {
    "collapsed": true
   },
   "outputs": [],
   "source": [
    "with need.request(Node()) as N:\n",
    "    N.label, N.edges.id, N.edges.weight"
   ]
  },
  {
   "cell_type": "code",
   "execution_count": 47,
   "metadata": {
    "collapsed": false
   },
   "outputs": [
    {
     "data": {
      "text/plain": [
       "OrderedDict([(dataneeds/tests/*.nlf >> Sep(',', 2) >> Cons >> Cons[2] >> Sep(',', -1) >> Each >> Each[None] >> Node.edges->Edge().id,\n",
       "              ([Node.edges->Edge().weight],\n",
       "               [dataneeds/tests/*.elf >> Sep(',', -1) >> Cons >> Cons[0] >> Edge().id:Integer,\n",
       "                dataneeds/tests/*.elf >> Sep(',', -1) >> Cons >> Cons[1] >> Edge().weight:Floating]))])"
      ]
     },
     "execution_count": 47,
     "metadata": {},
     "output_type": "execute_result"
    }
   ],
   "source": [
    "js"
   ]
  },
  {
   "cell_type": "code",
   "execution_count": 55,
   "metadata": {
    "collapsed": false
   },
   "outputs": [
    {
     "data": {
      "text/plain": [
       "dataneeds.types.Attribute"
      ]
     },
     "execution_count": 55,
     "metadata": {},
     "output_type": "execute_result"
    }
   ],
   "source": [
    "type(rs[0].binds)"
   ]
  },
  {
   "cell_type": "code",
   "execution_count": 48,
   "metadata": {
    "collapsed": true
   },
   "outputs": [],
   "source": [
    "(rs, js), *_ = N.resolve_combined().values()"
   ]
  },
  {
   "cell_type": "code",
   "execution_count": 49,
   "metadata": {
    "collapsed": false
   },
   "outputs": [
    {
     "data": {
      "text/plain": [
       "[]"
      ]
     },
     "execution_count": 49,
     "metadata": {},
     "output_type": "execute_result"
    }
   ],
   "source": [
    "e.resolve(N.items, rs, js).compute(get=get_sync)"
   ]
  },
  {
   "cell_type": "code",
   "execution_count": 50,
   "metadata": {
    "collapsed": false
   },
   "outputs": [
    {
     "data": {
      "text/plain": [
       "[(Files(dataneeds/tests/*.nlf), Files(dataneeds/tests/*.elf)),\n",
       " (Files(dataneeds/tests/*.nlf), Files(dataneeds/tests/*.nef)),\n",
       " (Files(dataneeds/tests/*.nef), Files(dataneeds/tests/*.elf)),\n",
       " (Files(dataneeds/tests/*.nef), Files(dataneeds/tests/*.nef))]"
      ]
     },
     "execution_count": 50,
     "metadata": {},
     "output_type": "execute_result"
    }
   ],
   "source": [
    "list(N.resolve_combined().keys())"
   ]
  },
  {
   "cell_type": "code",
   "execution_count": 16,
   "metadata": {
    "collapsed": false
   },
   "outputs": [],
   "source": [
    "with need.request(Edge()) as E:\n",
    "    E.id, E.weight, E.source.id, E.target.id"
   ]
  },
  {
   "cell_type": "code",
   "execution_count": 18,
   "metadata": {
    "collapsed": true
   },
   "outputs": [],
   "source": [
    "a, (rs, js), *_ = E.resolve_combined().values()"
   ]
  },
  {
   "cell_type": "code",
   "execution_count": 19,
   "metadata": {
    "collapsed": false
   },
   "outputs": [
    {
     "data": {
      "text/plain": [
       "[([0, 1], [0.3, 0.2], 0, [1, 2]),\n",
       " ([2, 3, 4], [0.2, 1.0, 0.4], 1, [0, 1, 2]),\n",
       " ([], [], 2, [])]"
      ]
     },
     "execution_count": 19,
     "metadata": {},
     "output_type": "execute_result"
    }
   ],
   "source": [
    "e.resolve(E.items, rs, js).compute(get=get_sync)"
   ]
  },
  {
   "cell_type": "code",
   "execution_count": 18,
   "metadata": {
    "collapsed": true
   },
   "outputs": [],
   "source": [
    "with need.request(Node()) as N:\n",
    "    N.edges.id, N.edges.weight, N.id, N.edges.target.id"
   ]
  },
  {
   "cell_type": "code",
   "execution_count": 20,
   "metadata": {
    "collapsed": false
   },
   "outputs": [
    {
     "data": {
      "text/plain": [
       "[Edge().id: Integer,\n",
       " Edge.source->Node().id,\n",
       " Edge.source->Node().label,\n",
       " Edge.target->Node().id,\n",
       " Edge.target->Node().label,\n",
       " Edge().weight: Floating]"
      ]
     },
     "execution_count": 20,
     "metadata": {},
     "output_type": "execute_result"
    }
   ],
   "source": [
    "with need.request(Edge()) as E:\n",
    "    E.id,\n",
    "    E.source.id, E.source.label\n",
    "    E.target.id, E.target.label\n",
    "    E.weight\n",
    "E.items"
   ]
  },
  {
   "cell_type": "code",
   "execution_count": 21,
   "metadata": {
    "collapsed": false
   },
   "outputs": [
    {
     "data": {
      "text/plain": [
       "[(Files(dataneeds/tests/*.elf),\n",
       "  Files(dataneeds/tests/*.nlf),\n",
       "  Files(dataneeds/tests/*.nlf)),\n",
       " (Files(dataneeds/tests/*.elf),\n",
       "  Files(dataneeds/tests/*.nlf),\n",
       "  Files(dataneeds/tests/*.nef)),\n",
       " (Files(dataneeds/tests/*.elf),\n",
       "  Files(dataneeds/tests/*.nef),\n",
       "  Files(dataneeds/tests/*.nlf)),\n",
       " (Files(dataneeds/tests/*.elf),\n",
       "  Files(dataneeds/tests/*.nef),\n",
       "  Files(dataneeds/tests/*.nef)),\n",
       " (Files(dataneeds/tests/*.nef),\n",
       "  Files(dataneeds/tests/*.nlf),\n",
       "  Files(dataneeds/tests/*.nlf)),\n",
       " (Files(dataneeds/tests/*.nef),\n",
       "  Files(dataneeds/tests/*.nlf),\n",
       "  Files(dataneeds/tests/*.nef)),\n",
       " (Files(dataneeds/tests/*.nef),\n",
       "  Files(dataneeds/tests/*.nef),\n",
       "  Files(dataneeds/tests/*.nlf)),\n",
       " (Files(dataneeds/tests/*.nef),\n",
       "  Files(dataneeds/tests/*.nef),\n",
       "  Files(dataneeds/tests/*.nef))]"
      ]
     },
     "execution_count": 21,
     "metadata": {},
     "output_type": "execute_result"
    }
   ],
   "source": [
    "list(E.resolve_combined().keys())"
   ]
  },
  {
   "cell_type": "code",
   "execution_count": 22,
   "metadata": {
    "collapsed": false
   },
   "outputs": [],
   "source": [
    "(rs, js), *_ = E.resolve_combined().values()"
   ]
  },
  {
   "cell_type": "code",
   "execution_count": 23,
   "metadata": {
    "collapsed": false
   },
   "outputs": [
    {
     "data": {
      "text/plain": [
       "[dataneeds/tests/*.elf >> Sep(',', -1) >> Cons >> Cons[0] >> Edge().id:Integer,\n",
       " dataneeds/tests/*.elf >> Sep(',', -1) >> Cons >> Cons[2] >> Edge.source->Node().id,\n",
       " dataneeds/tests/*.elf >> Sep(',', -1) >> Cons >> Cons[3] >> Edge.target->Node().id,\n",
       " dataneeds/tests/*.elf >> Sep(',', -1) >> Cons >> Cons[1] >> Edge().weight:Floating]"
      ]
     },
     "execution_count": 23,
     "metadata": {},
     "output_type": "execute_result"
    }
   ],
   "source": [
    "rs"
   ]
  },
  {
   "cell_type": "code",
   "execution_count": 24,
   "metadata": {
    "collapsed": false
   },
   "outputs": [
    {
     "data": {
      "text/plain": [
       "OrderedDict([(dataneeds/tests/*.elf >> Sep(',', -1) >> Cons >> Cons[2] >> Edge.source->Node().id,\n",
       "              ([Edge.source->Node().label],\n",
       "               [dataneeds/tests/*.nlf >> Sep(',', 2) >> Cons >> Cons[0] >> Node().id:Integer,\n",
       "                dataneeds/tests/*.nlf >> Sep(',', 2) >> Cons >> Cons[1] >> Node().label:String])),\n",
       "             (dataneeds/tests/*.elf >> Sep(',', -1) >> Cons >> Cons[3] >> Edge.target->Node().id,\n",
       "              ([Edge.target->Node().label],\n",
       "               [dataneeds/tests/*.nlf >> Sep(',', 2) >> Cons >> Cons[0] >> Node().id:Integer,\n",
       "                dataneeds/tests/*.nlf >> Sep(',', 2) >> Cons >> Cons[1] >> Node().label:String]))])"
      ]
     },
     "execution_count": 24,
     "metadata": {},
     "output_type": "execute_result"
    }
   ],
   "source": [
    "js"
   ]
  },
  {
   "cell_type": "code",
   "execution_count": 25,
   "metadata": {
    "collapsed": false
   },
   "outputs": [
    {
     "data": {
      "text/plain": [
       "[(0, 0, 'A', 1, 'B', 0.3),\n",
       " (1, 0, 'A', 2, 'C', 0.2),\n",
       " (2, 1, 'B', 0, 'A', 0.2),\n",
       " (3, 1, 'B', 1, 'B', 1.0),\n",
       " (4, 1, 'B', 2, 'C', 0.4)]"
      ]
     },
     "execution_count": 25,
     "metadata": {},
     "output_type": "execute_result"
    }
   ],
   "source": [
    "e.resolve(E.items, rs, js).compute(get=get_sync)"
   ]
  },
  {
   "cell_type": "code",
   "execution_count": null,
   "metadata": {
    "collapsed": true
   },
   "outputs": [],
   "source": []
  }
 ],
 "metadata": {
  "kernelspec": {
   "display_name": "Python 3",
   "language": "python",
   "name": "python3"
  },
  "language_info": {
   "codemirror_mode": {
    "name": "ipython",
    "version": 3
   },
   "file_extension": ".py",
   "mimetype": "text/x-python",
   "name": "python",
   "nbconvert_exporter": "python",
   "pygments_lexer": "ipython3",
   "version": "3.4.4"
  }
 },
 "nbformat": 4,
 "nbformat_minor": 0
}
