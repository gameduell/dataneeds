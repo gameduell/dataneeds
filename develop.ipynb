{
 "cells": [
  {
   "cell_type": "code",
   "execution_count": 1,
   "metadata": {
    "collapsed": false
   },
   "outputs": [],
   "source": [
    "%load_ext autoreload\n",
    "%autoreload 2"
   ]
  },
  {
   "cell_type": "code",
   "execution_count": 2,
   "metadata": {
    "collapsed": false
   },
   "outputs": [],
   "source": [
    "import dataneeds as need\n",
    "from dataneeds.engine.dask_bag import DaskBagEngine"
   ]
  },
  {
   "cell_type": "code",
   "execution_count": 3,
   "metadata": {
    "collapsed": false
   },
   "outputs": [],
   "source": [
    "%run dataneeds/tests/graph.py"
   ]
  },
  {
   "cell_type": "code",
   "execution_count": 4,
   "metadata": {
    "collapsed": false
   },
   "outputs": [
    {
     "data": {
      "text/plain": [
       "[Edge.source->Node().label,\n",
       " Edge.source->Node().id,\n",
       " Edge.source->Node().edges->Node.edges->Edge().id]"
      ]
     },
     "execution_count": 4,
     "metadata": {},
     "output_type": "execute_result"
    }
   ],
   "source": [
    "with need.request(Edge()) as E:\n",
    "    E.source.label, E.source.id, E.source.edges.id\n",
    "E.returns"
   ]
  },
  {
   "cell_type": "code",
   "execution_count": 5,
   "metadata": {
    "collapsed": false
   },
   "outputs": [
    {
     "data": {
      "text/plain": [
       "[Node().label: String, Node().id: Integer]"
      ]
     },
     "execution_count": 5,
     "metadata": {},
     "output_type": "execute_result"
    }
   ],
   "source": [
    "with need.request(Node()) as N:\n",
    "    N.label, N.id\n",
    "N.returns"
   ]
  },
  {
   "cell_type": "code",
   "execution_count": 6,
   "metadata": {
    "collapsed": false
   },
   "outputs": [
    {
     "data": {
      "text/plain": [
       "[Node().label: String, Node.edges->Edge().id]"
      ]
     },
     "execution_count": 6,
     "metadata": {},
     "output_type": "execute_result"
    }
   ],
   "source": [
    "with need.request(Node()) as N:\n",
    "    N.label, N.edges.id\n",
    "N.returns"
   ]
  },
  {
   "cell_type": "code",
   "execution_count": 7,
   "metadata": {
    "collapsed": false
   },
   "outputs": [
    {
     "data": {
      "text/plain": [
       "[Edge.source->Node().label, Edge.target->Node().label, Edge().weight: Floating]"
      ]
     },
     "execution_count": 7,
     "metadata": {},
     "output_type": "execute_result"
    }
   ],
   "source": [
    "with need.request(Edge()) as E:\n",
    "    E.source.label, E.target.label, E.weight\n",
    "E.returns"
   ]
  },
  {
   "cell_type": "code",
   "execution_count": 8,
   "metadata": {
    "collapsed": false
   },
   "outputs": [
    {
     "data": {
      "text/plain": [
       "OrderedDict([(Files(dataneeds/tests/*.elf),\n",
       "              [dataneeds/tests/*.elf >> Sep(',', -1) >> Cons >> Cons[2] >> Edge.source->Node().id,\n",
       "               dataneeds/tests/*.elf >> Sep(',', -1) >> Cons >> Cons[3] >> Edge.target->Node().id,\n",
       "               dataneeds/tests/*.elf >> Sep(',', -1) >> Cons >> Cons[1] >> Edge().weight:Floating]),\n",
       "             (Files(dataneeds/tests/*.nef),\n",
       "              [dataneeds/tests/*.nef >> Sep(',', 2) >> Cons >> Cons[0] >> Both >> Edge.source->Node().id,\n",
       "               dataneeds/tests/*.nef >> Sep(',', 2) >> Cons >> Cons[2] >> Sep(',', -1) >> Each >> Sep(':', -1) >> Cons >> Cons[2] >> Edge.target->Node().id,\n",
       "               dataneeds/tests/*.nef >> Sep(',', 2) >> Cons >> Cons[2] >> Sep(',', -1) >> Each >> Sep(':', -1) >> Cons >> Cons[1] >> Edge().weight:Floating])])"
      ]
     },
     "execution_count": 8,
     "metadata": {},
     "output_type": "execute_result"
    }
   ],
   "source": [
    "primary = E.resolve_primary()\n",
    "primary"
   ]
  },
  {
   "cell_type": "code",
   "execution_count": 9,
   "metadata": {
    "collapsed": false
   },
   "outputs": [
    {
     "data": {
      "text/plain": [
       "{dataneeds/tests/*.nef >> Sep(',', 2) >> Cons >> Cons[2] >> Sep(',', -1) >> Each >> Sep(':', -1) >> Cons >> Cons[2] >> Edge.target->Node().id: ([Edge.target->Node().label],\n",
       "  OrderedDict([(Files(dataneeds/tests/*.nlf),\n",
       "                [dataneeds/tests/*.nlf >> Sep(',', 2) >> Cons >> Cons[0] >> Node().id:Integer,\n",
       "                 dataneeds/tests/*.nlf >> Sep(',', 2) >> Cons >> Cons[1] >> Node().label:String]),\n",
       "               (Files(dataneeds/tests/*.nef),\n",
       "                [dataneeds/tests/*.nef >> Sep(',', 2) >> Cons >> Cons[0] >> Both >> Node().id:Integer,\n",
       "                 dataneeds/tests/*.nef >> Sep(',', 2) >> Cons >> Cons[1] >> Node().label:String])])),\n",
       " dataneeds/tests/*.nef >> Sep(',', 2) >> Cons >> Cons[0] >> Both >> Edge.source->Node().id: ([Edge.source->Node().label],\n",
       "  OrderedDict([(Files(dataneeds/tests/*.nlf),\n",
       "                [dataneeds/tests/*.nlf >> Sep(',', 2) >> Cons >> Cons[0] >> Node().id:Integer,\n",
       "                 dataneeds/tests/*.nlf >> Sep(',', 2) >> Cons >> Cons[1] >> Node().label:String]),\n",
       "               (Files(dataneeds/tests/*.nef),\n",
       "                [dataneeds/tests/*.nef >> Sep(',', 2) >> Cons >> Cons[0] >> Both >> Node().id:Integer,\n",
       "                 dataneeds/tests/*.nef >> Sep(',', 2) >> Cons >> Cons[1] >> Node().label:String])])),\n",
       " dataneeds/tests/*.elf >> Sep(',', -1) >> Cons >> Cons[2] >> Edge.source->Node().id: ([Edge.source->Node().label],\n",
       "  OrderedDict([(Files(dataneeds/tests/*.nlf),\n",
       "                [dataneeds/tests/*.nlf >> Sep(',', 2) >> Cons >> Cons[0] >> Node().id:Integer,\n",
       "                 dataneeds/tests/*.nlf >> Sep(',', 2) >> Cons >> Cons[1] >> Node().label:String]),\n",
       "               (Files(dataneeds/tests/*.nef),\n",
       "                [dataneeds/tests/*.nef >> Sep(',', 2) >> Cons >> Cons[0] >> Both >> Node().id:Integer,\n",
       "                 dataneeds/tests/*.nef >> Sep(',', 2) >> Cons >> Cons[1] >> Node().label:String])])),\n",
       " dataneeds/tests/*.elf >> Sep(',', -1) >> Cons >> Cons[3] >> Edge.target->Node().id: ([Edge.target->Node().label],\n",
       "  OrderedDict([(Files(dataneeds/tests/*.nlf),\n",
       "                [dataneeds/tests/*.nlf >> Sep(',', 2) >> Cons >> Cons[0] >> Node().id:Integer,\n",
       "                 dataneeds/tests/*.nlf >> Sep(',', 2) >> Cons >> Cons[1] >> Node().label:String]),\n",
       "               (Files(dataneeds/tests/*.nef),\n",
       "                [dataneeds/tests/*.nef >> Sep(',', 2) >> Cons >> Cons[0] >> Both >> Node().id:Integer,\n",
       "                 dataneeds/tests/*.nef >> Sep(',', 2) >> Cons >> Cons[1] >> Node().label:String])]))}"
      ]
     },
     "execution_count": 9,
     "metadata": {},
     "output_type": "execute_result"
    }
   ],
   "source": [
    "joins = E.resolve_joins()\n",
    "joins"
   ]
  },
  {
   "cell_type": "code",
   "execution_count": 10,
   "metadata": {
    "collapsed": false
   },
   "outputs": [
    {
     "data": {
      "text/plain": [
       "{(Files(dataneeds/tests/*.nef),\n",
       "  Files(dataneeds/tests/*.nlf),\n",
       "  Files(dataneeds/tests/*.nef)): ([dataneeds/tests/*.nef >> Sep(',', 2) >> Cons >> Cons[0] >> Both >> Edge.source->Node().id,\n",
       "   dataneeds/tests/*.nef >> Sep(',', 2) >> Cons >> Cons[2] >> Sep(',', -1) >> Each >> Sep(':', -1) >> Cons >> Cons[2] >> Edge.target->Node().id,\n",
       "   dataneeds/tests/*.nef >> Sep(',', 2) >> Cons >> Cons[2] >> Sep(',', -1) >> Each >> Sep(':', -1) >> Cons >> Cons[1] >> Edge().weight:Floating],\n",
       "  {dataneeds/tests/*.nef >> Sep(',', 2) >> Cons >> Cons[2] >> Sep(',', -1) >> Each >> Sep(':', -1) >> Cons >> Cons[2] >> Edge.target->Node().id: ([Edge.target->Node().label],\n",
       "    [dataneeds/tests/*.nef >> Sep(',', 2) >> Cons >> Cons[0] >> Both >> Node().id:Integer,\n",
       "     dataneeds/tests/*.nef >> Sep(',', 2) >> Cons >> Cons[1] >> Node().label:String]),\n",
       "   dataneeds/tests/*.nef >> Sep(',', 2) >> Cons >> Cons[0] >> Both >> Edge.source->Node().id: ([Edge.source->Node().label],\n",
       "    [dataneeds/tests/*.nlf >> Sep(',', 2) >> Cons >> Cons[0] >> Node().id:Integer,\n",
       "     dataneeds/tests/*.nlf >> Sep(',', 2) >> Cons >> Cons[1] >> Node().label:String])}),\n",
       " (Files(dataneeds/tests/*.nef),\n",
       "  Files(dataneeds/tests/*.nlf),\n",
       "  Files(dataneeds/tests/*.nlf)): ([dataneeds/tests/*.nef >> Sep(',', 2) >> Cons >> Cons[0] >> Both >> Edge.source->Node().id,\n",
       "   dataneeds/tests/*.nef >> Sep(',', 2) >> Cons >> Cons[2] >> Sep(',', -1) >> Each >> Sep(':', -1) >> Cons >> Cons[2] >> Edge.target->Node().id,\n",
       "   dataneeds/tests/*.nef >> Sep(',', 2) >> Cons >> Cons[2] >> Sep(',', -1) >> Each >> Sep(':', -1) >> Cons >> Cons[1] >> Edge().weight:Floating],\n",
       "  {dataneeds/tests/*.nef >> Sep(',', 2) >> Cons >> Cons[2] >> Sep(',', -1) >> Each >> Sep(':', -1) >> Cons >> Cons[2] >> Edge.target->Node().id: ([Edge.target->Node().label],\n",
       "    [dataneeds/tests/*.nlf >> Sep(',', 2) >> Cons >> Cons[0] >> Node().id:Integer,\n",
       "     dataneeds/tests/*.nlf >> Sep(',', 2) >> Cons >> Cons[1] >> Node().label:String]),\n",
       "   dataneeds/tests/*.nef >> Sep(',', 2) >> Cons >> Cons[0] >> Both >> Edge.source->Node().id: ([Edge.source->Node().label],\n",
       "    [dataneeds/tests/*.nlf >> Sep(',', 2) >> Cons >> Cons[0] >> Node().id:Integer,\n",
       "     dataneeds/tests/*.nlf >> Sep(',', 2) >> Cons >> Cons[1] >> Node().label:String])}),\n",
       " (Files(dataneeds/tests/*.nef),\n",
       "  Files(dataneeds/tests/*.nef),\n",
       "  Files(dataneeds/tests/*.nef)): ([dataneeds/tests/*.nef >> Sep(',', 2) >> Cons >> Cons[0] >> Both >> Edge.source->Node().id,\n",
       "   dataneeds/tests/*.nef >> Sep(',', 2) >> Cons >> Cons[2] >> Sep(',', -1) >> Each >> Sep(':', -1) >> Cons >> Cons[2] >> Edge.target->Node().id,\n",
       "   dataneeds/tests/*.nef >> Sep(',', 2) >> Cons >> Cons[2] >> Sep(',', -1) >> Each >> Sep(':', -1) >> Cons >> Cons[1] >> Edge().weight:Floating],\n",
       "  {dataneeds/tests/*.nef >> Sep(',', 2) >> Cons >> Cons[2] >> Sep(',', -1) >> Each >> Sep(':', -1) >> Cons >> Cons[2] >> Edge.target->Node().id: ([Edge.target->Node().label],\n",
       "    [dataneeds/tests/*.nef >> Sep(',', 2) >> Cons >> Cons[0] >> Both >> Node().id:Integer,\n",
       "     dataneeds/tests/*.nef >> Sep(',', 2) >> Cons >> Cons[1] >> Node().label:String]),\n",
       "   dataneeds/tests/*.nef >> Sep(',', 2) >> Cons >> Cons[0] >> Both >> Edge.source->Node().id: ([Edge.source->Node().label],\n",
       "    [dataneeds/tests/*.nef >> Sep(',', 2) >> Cons >> Cons[0] >> Both >> Node().id:Integer,\n",
       "     dataneeds/tests/*.nef >> Sep(',', 2) >> Cons >> Cons[1] >> Node().label:String])}),\n",
       " (Files(dataneeds/tests/*.nef),\n",
       "  Files(dataneeds/tests/*.nef),\n",
       "  Files(dataneeds/tests/*.nlf)): ([dataneeds/tests/*.nef >> Sep(',', 2) >> Cons >> Cons[0] >> Both >> Edge.source->Node().id,\n",
       "   dataneeds/tests/*.nef >> Sep(',', 2) >> Cons >> Cons[2] >> Sep(',', -1) >> Each >> Sep(':', -1) >> Cons >> Cons[2] >> Edge.target->Node().id,\n",
       "   dataneeds/tests/*.nef >> Sep(',', 2) >> Cons >> Cons[2] >> Sep(',', -1) >> Each >> Sep(':', -1) >> Cons >> Cons[1] >> Edge().weight:Floating],\n",
       "  {dataneeds/tests/*.nef >> Sep(',', 2) >> Cons >> Cons[2] >> Sep(',', -1) >> Each >> Sep(':', -1) >> Cons >> Cons[2] >> Edge.target->Node().id: ([Edge.target->Node().label],\n",
       "    [dataneeds/tests/*.nlf >> Sep(',', 2) >> Cons >> Cons[0] >> Node().id:Integer,\n",
       "     dataneeds/tests/*.nlf >> Sep(',', 2) >> Cons >> Cons[1] >> Node().label:String]),\n",
       "   dataneeds/tests/*.nef >> Sep(',', 2) >> Cons >> Cons[0] >> Both >> Edge.source->Node().id: ([Edge.source->Node().label],\n",
       "    [dataneeds/tests/*.nef >> Sep(',', 2) >> Cons >> Cons[0] >> Both >> Node().id:Integer,\n",
       "     dataneeds/tests/*.nef >> Sep(',', 2) >> Cons >> Cons[1] >> Node().label:String])}),\n",
       " (Files(dataneeds/tests/*.elf),\n",
       "  Files(dataneeds/tests/*.nlf),\n",
       "  Files(dataneeds/tests/*.nlf)): ([dataneeds/tests/*.elf >> Sep(',', -1) >> Cons >> Cons[2] >> Edge.source->Node().id,\n",
       "   dataneeds/tests/*.elf >> Sep(',', -1) >> Cons >> Cons[3] >> Edge.target->Node().id,\n",
       "   dataneeds/tests/*.elf >> Sep(',', -1) >> Cons >> Cons[1] >> Edge().weight:Floating],\n",
       "  {dataneeds/tests/*.elf >> Sep(',', -1) >> Cons >> Cons[2] >> Edge.source->Node().id: ([Edge.source->Node().label],\n",
       "    [dataneeds/tests/*.nlf >> Sep(',', 2) >> Cons >> Cons[0] >> Node().id:Integer,\n",
       "     dataneeds/tests/*.nlf >> Sep(',', 2) >> Cons >> Cons[1] >> Node().label:String]),\n",
       "   dataneeds/tests/*.elf >> Sep(',', -1) >> Cons >> Cons[3] >> Edge.target->Node().id: ([Edge.target->Node().label],\n",
       "    [dataneeds/tests/*.nlf >> Sep(',', 2) >> Cons >> Cons[0] >> Node().id:Integer,\n",
       "     dataneeds/tests/*.nlf >> Sep(',', 2) >> Cons >> Cons[1] >> Node().label:String])}),\n",
       " (Files(dataneeds/tests/*.elf),\n",
       "  Files(dataneeds/tests/*.nef),\n",
       "  Files(dataneeds/tests/*.nlf)): ([dataneeds/tests/*.elf >> Sep(',', -1) >> Cons >> Cons[2] >> Edge.source->Node().id,\n",
       "   dataneeds/tests/*.elf >> Sep(',', -1) >> Cons >> Cons[3] >> Edge.target->Node().id,\n",
       "   dataneeds/tests/*.elf >> Sep(',', -1) >> Cons >> Cons[1] >> Edge().weight:Floating],\n",
       "  {dataneeds/tests/*.elf >> Sep(',', -1) >> Cons >> Cons[2] >> Edge.source->Node().id: ([Edge.source->Node().label],\n",
       "    [dataneeds/tests/*.nef >> Sep(',', 2) >> Cons >> Cons[0] >> Both >> Node().id:Integer,\n",
       "     dataneeds/tests/*.nef >> Sep(',', 2) >> Cons >> Cons[1] >> Node().label:String]),\n",
       "   dataneeds/tests/*.elf >> Sep(',', -1) >> Cons >> Cons[3] >> Edge.target->Node().id: ([Edge.target->Node().label],\n",
       "    [dataneeds/tests/*.nlf >> Sep(',', 2) >> Cons >> Cons[0] >> Node().id:Integer,\n",
       "     dataneeds/tests/*.nlf >> Sep(',', 2) >> Cons >> Cons[1] >> Node().label:String])}),\n",
       " (Files(dataneeds/tests/*.elf),\n",
       "  Files(dataneeds/tests/*.nef),\n",
       "  Files(dataneeds/tests/*.nef)): ([dataneeds/tests/*.elf >> Sep(',', -1) >> Cons >> Cons[2] >> Edge.source->Node().id,\n",
       "   dataneeds/tests/*.elf >> Sep(',', -1) >> Cons >> Cons[3] >> Edge.target->Node().id,\n",
       "   dataneeds/tests/*.elf >> Sep(',', -1) >> Cons >> Cons[1] >> Edge().weight:Floating],\n",
       "  {dataneeds/tests/*.elf >> Sep(',', -1) >> Cons >> Cons[2] >> Edge.source->Node().id: ([Edge.source->Node().label],\n",
       "    [dataneeds/tests/*.nef >> Sep(',', 2) >> Cons >> Cons[0] >> Both >> Node().id:Integer,\n",
       "     dataneeds/tests/*.nef >> Sep(',', 2) >> Cons >> Cons[1] >> Node().label:String]),\n",
       "   dataneeds/tests/*.elf >> Sep(',', -1) >> Cons >> Cons[3] >> Edge.target->Node().id: ([Edge.target->Node().label],\n",
       "    [dataneeds/tests/*.nef >> Sep(',', 2) >> Cons >> Cons[0] >> Both >> Node().id:Integer,\n",
       "     dataneeds/tests/*.nef >> Sep(',', 2) >> Cons >> Cons[1] >> Node().label:String])}),\n",
       " (Files(dataneeds/tests/*.elf),\n",
       "  Files(dataneeds/tests/*.nlf),\n",
       "  Files(dataneeds/tests/*.nef)): ([dataneeds/tests/*.elf >> Sep(',', -1) >> Cons >> Cons[2] >> Edge.source->Node().id,\n",
       "   dataneeds/tests/*.elf >> Sep(',', -1) >> Cons >> Cons[3] >> Edge.target->Node().id,\n",
       "   dataneeds/tests/*.elf >> Sep(',', -1) >> Cons >> Cons[1] >> Edge().weight:Floating],\n",
       "  {dataneeds/tests/*.elf >> Sep(',', -1) >> Cons >> Cons[2] >> Edge.source->Node().id: ([Edge.source->Node().label],\n",
       "    [dataneeds/tests/*.nlf >> Sep(',', 2) >> Cons >> Cons[0] >> Node().id:Integer,\n",
       "     dataneeds/tests/*.nlf >> Sep(',', 2) >> Cons >> Cons[1] >> Node().label:String]),\n",
       "   dataneeds/tests/*.elf >> Sep(',', -1) >> Cons >> Cons[3] >> Edge.target->Node().id: ([Edge.target->Node().label],\n",
       "    [dataneeds/tests/*.nef >> Sep(',', 2) >> Cons >> Cons[0] >> Both >> Node().id:Integer,\n",
       "     dataneeds/tests/*.nef >> Sep(',', 2) >> Cons >> Cons[1] >> Node().label:String])})}"
      ]
     },
     "execution_count": 10,
     "metadata": {},
     "output_type": "execute_result"
    }
   ],
   "source": [
    "E.resolve_combined()"
   ]
  },
  {
   "cell_type": "code",
   "execution_count": 9,
   "metadata": {
    "collapsed": false
   },
   "outputs": [
    {
     "data": {
      "text/plain": [
       "{(Files(dataneeds/tests/*.elf),\n",
       "  Files(dataneeds/tests/*.nef),\n",
       "  Files(dataneeds/tests/*.nef)): ([dataneeds/tests/*.elf >> Sep(',', -1) >> Cons >> Cons[2] >> Edge.source->Node().id,\n",
       "   dataneeds/tests/*.elf >> Sep(',', -1) >> Cons >> Cons[3] >> Edge.target->Node().id,\n",
       "   dataneeds/tests/*.elf >> Sep(',', -1) >> Cons >> Cons[1] >> Edge().weight:Floating],\n",
       "  {dataneeds/tests/*.elf >> Sep(',', -1) >> Cons >> Cons[2] >> Edge.source->Node().id: [dataneeds/tests/*.nef >> Sep(',', 2) >> Cons >> Cons[0] >> Both >> Node().id:Integer,\n",
       "    dataneeds/tests/*.nef >> Sep(',', 2) >> Cons >> Cons[1] >> Node().label:String],\n",
       "   dataneeds/tests/*.elf >> Sep(',', -1) >> Cons >> Cons[3] >> Edge.target->Node().id: [dataneeds/tests/*.nef >> Sep(',', 2) >> Cons >> Cons[0] >> Both >> Node().id:Integer,\n",
       "    dataneeds/tests/*.nef >> Sep(',', 2) >> Cons >> Cons[1] >> Node().label:String]}),\n",
       " (Files(dataneeds/tests/*.elf),\n",
       "  Files(dataneeds/tests/*.nlf),\n",
       "  Files(dataneeds/tests/*.nef)): ([dataneeds/tests/*.elf >> Sep(',', -1) >> Cons >> Cons[2] >> Edge.source->Node().id,\n",
       "   dataneeds/tests/*.elf >> Sep(',', -1) >> Cons >> Cons[3] >> Edge.target->Node().id,\n",
       "   dataneeds/tests/*.elf >> Sep(',', -1) >> Cons >> Cons[1] >> Edge().weight:Floating],\n",
       "  {dataneeds/tests/*.elf >> Sep(',', -1) >> Cons >> Cons[2] >> Edge.source->Node().id: [dataneeds/tests/*.nlf >> Sep(',', 2) >> Cons >> Cons[0] >> Node().id:Integer,\n",
       "    dataneeds/tests/*.nlf >> Sep(',', 2) >> Cons >> Cons[1] >> Node().label:String],\n",
       "   dataneeds/tests/*.elf >> Sep(',', -1) >> Cons >> Cons[3] >> Edge.target->Node().id: [dataneeds/tests/*.nef >> Sep(',', 2) >> Cons >> Cons[0] >> Both >> Node().id:Integer,\n",
       "    dataneeds/tests/*.nef >> Sep(',', 2) >> Cons >> Cons[1] >> Node().label:String]}),\n",
       " (Files(dataneeds/tests/*.nef),\n",
       "  Files(dataneeds/tests/*.nlf),\n",
       "  Files(dataneeds/tests/*.nlf)): ([dataneeds/tests/*.nef >> Sep(',', 2) >> Cons >> Cons[0] >> Both >> Edge.source->Node().id,\n",
       "   dataneeds/tests/*.nef >> Sep(',', 2) >> Cons >> Cons[2] >> Sep(',', -1) >> Each >> Sep(':', -1) >> Cons >> Cons[2] >> Edge.target->Node().id,\n",
       "   dataneeds/tests/*.nef >> Sep(',', 2) >> Cons >> Cons[2] >> Sep(',', -1) >> Each >> Sep(':', -1) >> Cons >> Cons[1] >> Edge().weight:Floating],\n",
       "  {dataneeds/tests/*.nef >> Sep(',', 2) >> Cons >> Cons[2] >> Sep(',', -1) >> Each >> Sep(':', -1) >> Cons >> Cons[2] >> Edge.target->Node().id: [dataneeds/tests/*.nlf >> Sep(',', 2) >> Cons >> Cons[0] >> Node().id:Integer,\n",
       "    dataneeds/tests/*.nlf >> Sep(',', 2) >> Cons >> Cons[1] >> Node().label:String],\n",
       "   dataneeds/tests/*.nef >> Sep(',', 2) >> Cons >> Cons[0] >> Both >> Edge.source->Node().id: [dataneeds/tests/*.nlf >> Sep(',', 2) >> Cons >> Cons[0] >> Node().id:Integer,\n",
       "    dataneeds/tests/*.nlf >> Sep(',', 2) >> Cons >> Cons[1] >> Node().label:String]}),\n",
       " (Files(dataneeds/tests/*.elf),\n",
       "  Files(dataneeds/tests/*.nlf),\n",
       "  Files(dataneeds/tests/*.nlf)): ([dataneeds/tests/*.elf >> Sep(',', -1) >> Cons >> Cons[2] >> Edge.source->Node().id,\n",
       "   dataneeds/tests/*.elf >> Sep(',', -1) >> Cons >> Cons[3] >> Edge.target->Node().id,\n",
       "   dataneeds/tests/*.elf >> Sep(',', -1) >> Cons >> Cons[1] >> Edge().weight:Floating],\n",
       "  {dataneeds/tests/*.elf >> Sep(',', -1) >> Cons >> Cons[2] >> Edge.source->Node().id: [dataneeds/tests/*.nlf >> Sep(',', 2) >> Cons >> Cons[0] >> Node().id:Integer,\n",
       "    dataneeds/tests/*.nlf >> Sep(',', 2) >> Cons >> Cons[1] >> Node().label:String],\n",
       "   dataneeds/tests/*.elf >> Sep(',', -1) >> Cons >> Cons[3] >> Edge.target->Node().id: [dataneeds/tests/*.nlf >> Sep(',', 2) >> Cons >> Cons[0] >> Node().id:Integer,\n",
       "    dataneeds/tests/*.nlf >> Sep(',', 2) >> Cons >> Cons[1] >> Node().label:String]}),\n",
       " (Files(dataneeds/tests/*.nef),\n",
       "  Files(dataneeds/tests/*.nef),\n",
       "  Files(dataneeds/tests/*.nlf)): ([dataneeds/tests/*.nef >> Sep(',', 2) >> Cons >> Cons[0] >> Both >> Edge.source->Node().id,\n",
       "   dataneeds/tests/*.nef >> Sep(',', 2) >> Cons >> Cons[2] >> Sep(',', -1) >> Each >> Sep(':', -1) >> Cons >> Cons[2] >> Edge.target->Node().id,\n",
       "   dataneeds/tests/*.nef >> Sep(',', 2) >> Cons >> Cons[2] >> Sep(',', -1) >> Each >> Sep(':', -1) >> Cons >> Cons[1] >> Edge().weight:Floating],\n",
       "  {dataneeds/tests/*.nef >> Sep(',', 2) >> Cons >> Cons[2] >> Sep(',', -1) >> Each >> Sep(':', -1) >> Cons >> Cons[2] >> Edge.target->Node().id: [dataneeds/tests/*.nlf >> Sep(',', 2) >> Cons >> Cons[0] >> Node().id:Integer,\n",
       "    dataneeds/tests/*.nlf >> Sep(',', 2) >> Cons >> Cons[1] >> Node().label:String],\n",
       "   dataneeds/tests/*.nef >> Sep(',', 2) >> Cons >> Cons[0] >> Both >> Edge.source->Node().id: [dataneeds/tests/*.nef >> Sep(',', 2) >> Cons >> Cons[0] >> Both >> Node().id:Integer,\n",
       "    dataneeds/tests/*.nef >> Sep(',', 2) >> Cons >> Cons[1] >> Node().label:String]}),\n",
       " (Files(dataneeds/tests/*.nef),\n",
       "  Files(dataneeds/tests/*.nef),\n",
       "  Files(dataneeds/tests/*.nef)): ([dataneeds/tests/*.nef >> Sep(',', 2) >> Cons >> Cons[0] >> Both >> Edge.source->Node().id,\n",
       "   dataneeds/tests/*.nef >> Sep(',', 2) >> Cons >> Cons[2] >> Sep(',', -1) >> Each >> Sep(':', -1) >> Cons >> Cons[2] >> Edge.target->Node().id,\n",
       "   dataneeds/tests/*.nef >> Sep(',', 2) >> Cons >> Cons[2] >> Sep(',', -1) >> Each >> Sep(':', -1) >> Cons >> Cons[1] >> Edge().weight:Floating],\n",
       "  {dataneeds/tests/*.nef >> Sep(',', 2) >> Cons >> Cons[2] >> Sep(',', -1) >> Each >> Sep(':', -1) >> Cons >> Cons[2] >> Edge.target->Node().id: [dataneeds/tests/*.nef >> Sep(',', 2) >> Cons >> Cons[0] >> Both >> Node().id:Integer,\n",
       "    dataneeds/tests/*.nef >> Sep(',', 2) >> Cons >> Cons[1] >> Node().label:String],\n",
       "   dataneeds/tests/*.nef >> Sep(',', 2) >> Cons >> Cons[0] >> Both >> Edge.source->Node().id: [dataneeds/tests/*.nef >> Sep(',', 2) >> Cons >> Cons[0] >> Both >> Node().id:Integer,\n",
       "    dataneeds/tests/*.nef >> Sep(',', 2) >> Cons >> Cons[1] >> Node().label:String]}),\n",
       " (Files(dataneeds/tests/*.elf),\n",
       "  Files(dataneeds/tests/*.nef),\n",
       "  Files(dataneeds/tests/*.nlf)): ([dataneeds/tests/*.elf >> Sep(',', -1) >> Cons >> Cons[2] >> Edge.source->Node().id,\n",
       "   dataneeds/tests/*.elf >> Sep(',', -1) >> Cons >> Cons[3] >> Edge.target->Node().id,\n",
       "   dataneeds/tests/*.elf >> Sep(',', -1) >> Cons >> Cons[1] >> Edge().weight:Floating],\n",
       "  {dataneeds/tests/*.elf >> Sep(',', -1) >> Cons >> Cons[2] >> Edge.source->Node().id: [dataneeds/tests/*.nef >> Sep(',', 2) >> Cons >> Cons[0] >> Both >> Node().id:Integer,\n",
       "    dataneeds/tests/*.nef >> Sep(',', 2) >> Cons >> Cons[1] >> Node().label:String],\n",
       "   dataneeds/tests/*.elf >> Sep(',', -1) >> Cons >> Cons[3] >> Edge.target->Node().id: [dataneeds/tests/*.nlf >> Sep(',', 2) >> Cons >> Cons[0] >> Node().id:Integer,\n",
       "    dataneeds/tests/*.nlf >> Sep(',', 2) >> Cons >> Cons[1] >> Node().label:String]}),\n",
       " (Files(dataneeds/tests/*.nef),\n",
       "  Files(dataneeds/tests/*.nlf),\n",
       "  Files(dataneeds/tests/*.nef)): ([dataneeds/tests/*.nef >> Sep(',', 2) >> Cons >> Cons[0] >> Both >> Edge.source->Node().id,\n",
       "   dataneeds/tests/*.nef >> Sep(',', 2) >> Cons >> Cons[2] >> Sep(',', -1) >> Each >> Sep(':', -1) >> Cons >> Cons[2] >> Edge.target->Node().id,\n",
       "   dataneeds/tests/*.nef >> Sep(',', 2) >> Cons >> Cons[2] >> Sep(',', -1) >> Each >> Sep(':', -1) >> Cons >> Cons[1] >> Edge().weight:Floating],\n",
       "  {dataneeds/tests/*.nef >> Sep(',', 2) >> Cons >> Cons[2] >> Sep(',', -1) >> Each >> Sep(':', -1) >> Cons >> Cons[2] >> Edge.target->Node().id: [dataneeds/tests/*.nef >> Sep(',', 2) >> Cons >> Cons[0] >> Both >> Node().id:Integer,\n",
       "    dataneeds/tests/*.nef >> Sep(',', 2) >> Cons >> Cons[1] >> Node().label:String],\n",
       "   dataneeds/tests/*.nef >> Sep(',', 2) >> Cons >> Cons[0] >> Both >> Edge.source->Node().id: [dataneeds/tests/*.nlf >> Sep(',', 2) >> Cons >> Cons[0] >> Node().id:Integer,\n",
       "    dataneeds/tests/*.nlf >> Sep(',', 2) >> Cons >> Cons[1] >> Node().label:String]})}"
      ]
     },
     "execution_count": 9,
     "metadata": {},
     "output_type": "execute_result"
    }
   ],
   "source": [
    "E.resolve_combined()"
   ]
  },
  {
   "cell_type": "code",
   "execution_count": 12,
   "metadata": {
    "collapsed": false
   },
   "outputs": [
    {
     "data": {
      "text/plain": [
       "[1, 2, 3]"
      ]
     },
     "execution_count": 12,
     "metadata": {},
     "output_type": "execute_result"
    }
   ],
   "source": [
    "[0,1,2,3][1:]"
   ]
  },
  {
   "cell_type": "code",
   "execution_count": 14,
   "metadata": {
    "collapsed": false
   },
   "outputs": [
    {
     "data": {
      "text/plain": [
       "([dataneeds/tests/*.elf >> Sep(',', -1) >> Cons >> Cons[2] >> Edge.source->Node().id,\n",
       "  dataneeds/tests/*.elf >> Sep(',', -1) >> Cons >> Cons[3] >> Edge.target->Node().id,\n",
       "  dataneeds/tests/*.elf >> Sep(',', -1) >> Cons >> Cons[1] >> Edge().weight:Floating],\n",
       " [dataneeds/tests/*.nlf >> Sep(',', 2) >> Cons >> Cons[0] >> Node().id:Integer,\n",
       "  dataneeds/tests/*.nlf >> Sep(',', 2) >> Cons >> Cons[1] >> Node().label:String],\n",
       " [dataneeds/tests/*.nlf >> Sep(',', 2) >> Cons >> Cons[0] >> Node().id:Integer,\n",
       "  dataneeds/tests/*.nlf >> Sep(',', 2) >> Cons >> Cons[1] >> Node().label:String],\n",
       " [dataneeds/tests/*.nlf >> Sep(',', 2) >> Cons >> Cons[0] >> Node().id:Integer,\n",
       "  dataneeds/tests/*.nlf >> Sep(',', 2) >> Cons >> Cons[1] >> Node().label:String],\n",
       " [dataneeds/tests/*.nlf >> Sep(',', 2) >> Cons >> Cons[0] >> Node().id:Integer,\n",
       "  dataneeds/tests/*.nlf >> Sep(',', 2) >> Cons >> Cons[1] >> Node().label:String])"
      ]
     },
     "execution_count": 14,
     "metadata": {},
     "output_type": "execute_result"
    }
   ],
   "source": [
    "a, *_ = E.resolve_combined().values()\n",
    "a"
   ]
  },
  {
   "cell_type": "code",
   "execution_count": 9,
   "metadata": {
    "collapsed": false
   },
   "outputs": [],
   "source": [
    "(primary, *joins), *_ = E.resolve_combined().values()\n",
    "returns = E.returns"
   ]
  },
  {
   "cell_type": "code",
   "execution_count": 10,
   "metadata": {
    "collapsed": false
   },
   "outputs": [
    {
     "data": {
      "text/plain": [
       "[dataneeds/tests/*.elf >> Sep(',', -1) >> Cons >> Cons[2] >> Edge.source->Node().id,\n",
       " dataneeds/tests/*.elf >> Sep(',', -1) >> Cons >> Cons[3] >> Edge.target->Node().id,\n",
       " dataneeds/tests/*.elf >> Sep(',', -1) >> Cons >> Cons[1] >> Edge().weight:Floating]"
      ]
     },
     "execution_count": 10,
     "metadata": {},
     "output_type": "execute_result"
    }
   ],
   "source": [
    "primary"
   ]
  },
  {
   "cell_type": "code",
   "execution_count": 11,
   "metadata": {
    "collapsed": false
   },
   "outputs": [
    {
     "data": {
      "text/plain": [
       "[[dataneeds/tests/*.nlf >> Sep(',', 2) >> Cons >> Cons[0] >> Node().id:Integer,\n",
       "  dataneeds/tests/*.nlf >> Sep(',', 2) >> Cons >> Cons[1] >> Node().label:String],\n",
       " [dataneeds/tests/*.nlf >> Sep(',', 2) >> Cons >> Cons[0] >> Node().id:Integer,\n",
       "  dataneeds/tests/*.nlf >> Sep(',', 2) >> Cons >> Cons[1] >> Node().label:String],\n",
       " [dataneeds/tests/*.nlf >> Sep(',', 2) >> Cons >> Cons[0] >> Node().id:Integer,\n",
       "  dataneeds/tests/*.nlf >> Sep(',', 2) >> Cons >> Cons[1] >> Node().label:String],\n",
       " [dataneeds/tests/*.nlf >> Sep(',', 2) >> Cons >> Cons[0] >> Node().id:Integer,\n",
       "  dataneeds/tests/*.nlf >> Sep(',', 2) >> Cons >> Cons[1] >> Node().label:String]]"
      ]
     },
     "execution_count": 11,
     "metadata": {},
     "output_type": "execute_result"
    }
   ],
   "source": [
    "joins"
   ]
  },
  {
   "cell_type": "code",
   "execution_count": 29,
   "metadata": {
    "collapsed": false
   },
   "outputs": [
    {
     "data": {
      "text/plain": [
       "{dataneeds/tests/*.elf >> Sep(',', -1) >> Cons >> Cons[2] >> Edge.source->Node().id: OrderedDict([(Files(dataneeds/tests/*.nlf),\n",
       "               [dataneeds/tests/*.nlf >> Sep(',', 2) >> Cons >> Cons[0] >> Node().id:Integer,\n",
       "                dataneeds/tests/*.nlf >> Sep(',', 2) >> Cons >> Cons[1] >> Node().label:String]),\n",
       "              (Files(dataneeds/tests/*.nef),\n",
       "               [dataneeds/tests/*.nef >> Sep(',', 2) >> Cons >> Cons[0] >> Both >> Node().id:Integer,\n",
       "                dataneeds/tests/*.nef >> Sep(',', 2) >> Cons >> Cons[1] >> Node().label:String])]),\n",
       " dataneeds/tests/*.elf >> Sep(',', -1) >> Cons >> Cons[3] >> Edge.target->Node().id: OrderedDict([(Files(dataneeds/tests/*.nlf),\n",
       "               [dataneeds/tests/*.nlf >> Sep(',', 2) >> Cons >> Cons[0] >> Node().id:Integer,\n",
       "                dataneeds/tests/*.nlf >> Sep(',', 2) >> Cons >> Cons[1] >> Node().label:String]),\n",
       "              (Files(dataneeds/tests/*.nef),\n",
       "               [dataneeds/tests/*.nef >> Sep(',', 2) >> Cons >> Cons[0] >> Both >> Node().id:Integer,\n",
       "                dataneeds/tests/*.nef >> Sep(',', 2) >> Cons >> Cons[1] >> Node().label:String])]),\n",
       " dataneeds/tests/*.nef >> Sep(',', 2) >> Cons >> Cons[2] >> Sep(',', -1) >> Each >> Sep(':', -1) >> Cons >> Cons[2] >> Edge.target->Node().id: OrderedDict([(Files(dataneeds/tests/*.nlf),\n",
       "               [dataneeds/tests/*.nlf >> Sep(',', 2) >> Cons >> Cons[0] >> Node().id:Integer,\n",
       "                dataneeds/tests/*.nlf >> Sep(',', 2) >> Cons >> Cons[1] >> Node().label:String]),\n",
       "              (Files(dataneeds/tests/*.nef),\n",
       "               [dataneeds/tests/*.nef >> Sep(',', 2) >> Cons >> Cons[0] >> Both >> Node().id:Integer,\n",
       "                dataneeds/tests/*.nef >> Sep(',', 2) >> Cons >> Cons[1] >> Node().label:String])]),\n",
       " dataneeds/tests/*.nef >> Sep(',', 2) >> Cons >> Cons[0] >> Both >> Edge.source->Node().id: OrderedDict([(Files(dataneeds/tests/*.nlf),\n",
       "               [dataneeds/tests/*.nlf >> Sep(',', 2) >> Cons >> Cons[0] >> Node().id:Integer,\n",
       "                dataneeds/tests/*.nlf >> Sep(',', 2) >> Cons >> Cons[1] >> Node().label:String]),\n",
       "              (Files(dataneeds/tests/*.nef),\n",
       "               [dataneeds/tests/*.nef >> Sep(',', 2) >> Cons >> Cons[0] >> Both >> Node().id:Integer,\n",
       "                dataneeds/tests/*.nef >> Sep(',', 2) >> Cons >> Cons[1] >> Node().label:String])])}"
      ]
     },
     "execution_count": 29,
     "metadata": {},
     "output_type": "execute_result"
    }
   ],
   "source": [
    "E.resolve_joins()"
   ]
  },
  {
   "cell_type": "code",
   "execution_count": 15,
   "metadata": {
    "collapsed": false
   },
   "outputs": [
    {
     "data": {
      "text/plain": [
       "OrderedDict([((Files(dataneeds/tests/*.elf),\n",
       "               (Files(dataneeds/tests/*.nlf), Files(dataneeds/tests/*.nlf))),\n",
       "              ([dataneeds/tests/*.elf >> Sep(',', -1) >> Cons >> Cons[2] >> Edge.source->Node().id,\n",
       "                dataneeds/tests/*.elf >> Sep(',', -1) >> Cons >> Cons[3] >> Edge.target->Node().id,\n",
       "                dataneeds/tests/*.elf >> Sep(',', -1) >> Cons >> Cons[1] >> Edge().weight:Floating],\n",
       "               [dataneeds/tests/*.nlf >> Sep(',', 2) >> Cons >> Cons[0] >> Node().id:Integer,\n",
       "                dataneeds/tests/*.nlf >> Sep(',', 2) >> Cons >> Cons[1] >> Node().label:String],\n",
       "               [dataneeds/tests/*.nlf >> Sep(',', 2) >> Cons >> Cons[0] >> Node().id:Integer,\n",
       "                dataneeds/tests/*.nlf >> Sep(',', 2) >> Cons >> Cons[1] >> Node().label:String],\n",
       "               [dataneeds/tests/*.nlf >> Sep(',', 2) >> Cons >> Cons[0] >> Node().id:Integer,\n",
       "                dataneeds/tests/*.nlf >> Sep(',', 2) >> Cons >> Cons[1] >> Node().label:String],\n",
       "               [dataneeds/tests/*.nlf >> Sep(',', 2) >> Cons >> Cons[0] >> Node().id:Integer,\n",
       "                dataneeds/tests/*.nlf >> Sep(',', 2) >> Cons >> Cons[1] >> Node().label:String])),\n",
       "             ((Files(dataneeds/tests/*.elf),\n",
       "               (Files(dataneeds/tests/*.nlf), Files(dataneeds/tests/*.nef))),\n",
       "              ([dataneeds/tests/*.elf >> Sep(',', -1) >> Cons >> Cons[2] >> Edge.source->Node().id,\n",
       "                dataneeds/tests/*.elf >> Sep(',', -1) >> Cons >> Cons[3] >> Edge.target->Node().id,\n",
       "                dataneeds/tests/*.elf >> Sep(',', -1) >> Cons >> Cons[1] >> Edge().weight:Floating],\n",
       "               [dataneeds/tests/*.nlf >> Sep(',', 2) >> Cons >> Cons[0] >> Node().id:Integer,\n",
       "                dataneeds/tests/*.nlf >> Sep(',', 2) >> Cons >> Cons[1] >> Node().label:String],\n",
       "               [dataneeds/tests/*.nef >> Sep(',', 2) >> Cons >> Cons[0] >> Both >> Node().id:Integer,\n",
       "                dataneeds/tests/*.nef >> Sep(',', 2) >> Cons >> Cons[1] >> Node().label:String],\n",
       "               [dataneeds/tests/*.nlf >> Sep(',', 2) >> Cons >> Cons[0] >> Node().id:Integer,\n",
       "                dataneeds/tests/*.nlf >> Sep(',', 2) >> Cons >> Cons[1] >> Node().label:String],\n",
       "               [dataneeds/tests/*.nef >> Sep(',', 2) >> Cons >> Cons[0] >> Both >> Node().id:Integer,\n",
       "                dataneeds/tests/*.nef >> Sep(',', 2) >> Cons >> Cons[1] >> Node().label:String])),\n",
       "             ((Files(dataneeds/tests/*.elf),\n",
       "               (Files(dataneeds/tests/*.nef), Files(dataneeds/tests/*.nlf))),\n",
       "              ([dataneeds/tests/*.elf >> Sep(',', -1) >> Cons >> Cons[2] >> Edge.source->Node().id,\n",
       "                dataneeds/tests/*.elf >> Sep(',', -1) >> Cons >> Cons[3] >> Edge.target->Node().id,\n",
       "                dataneeds/tests/*.elf >> Sep(',', -1) >> Cons >> Cons[1] >> Edge().weight:Floating],\n",
       "               [dataneeds/tests/*.nef >> Sep(',', 2) >> Cons >> Cons[0] >> Both >> Node().id:Integer,\n",
       "                dataneeds/tests/*.nef >> Sep(',', 2) >> Cons >> Cons[1] >> Node().label:String],\n",
       "               [dataneeds/tests/*.nlf >> Sep(',', 2) >> Cons >> Cons[0] >> Node().id:Integer,\n",
       "                dataneeds/tests/*.nlf >> Sep(',', 2) >> Cons >> Cons[1] >> Node().label:String],\n",
       "               [dataneeds/tests/*.nef >> Sep(',', 2) >> Cons >> Cons[0] >> Both >> Node().id:Integer,\n",
       "                dataneeds/tests/*.nef >> Sep(',', 2) >> Cons >> Cons[1] >> Node().label:String],\n",
       "               [dataneeds/tests/*.nlf >> Sep(',', 2) >> Cons >> Cons[0] >> Node().id:Integer,\n",
       "                dataneeds/tests/*.nlf >> Sep(',', 2) >> Cons >> Cons[1] >> Node().label:String])),\n",
       "             ((Files(dataneeds/tests/*.elf),\n",
       "               (Files(dataneeds/tests/*.nef), Files(dataneeds/tests/*.nef))),\n",
       "              ([dataneeds/tests/*.elf >> Sep(',', -1) >> Cons >> Cons[2] >> Edge.source->Node().id,\n",
       "                dataneeds/tests/*.elf >> Sep(',', -1) >> Cons >> Cons[3] >> Edge.target->Node().id,\n",
       "                dataneeds/tests/*.elf >> Sep(',', -1) >> Cons >> Cons[1] >> Edge().weight:Floating],\n",
       "               [dataneeds/tests/*.nef >> Sep(',', 2) >> Cons >> Cons[0] >> Both >> Node().id:Integer,\n",
       "                dataneeds/tests/*.nef >> Sep(',', 2) >> Cons >> Cons[1] >> Node().label:String],\n",
       "               [dataneeds/tests/*.nef >> Sep(',', 2) >> Cons >> Cons[0] >> Both >> Node().id:Integer,\n",
       "                dataneeds/tests/*.nef >> Sep(',', 2) >> Cons >> Cons[1] >> Node().label:String],\n",
       "               [dataneeds/tests/*.nef >> Sep(',', 2) >> Cons >> Cons[0] >> Both >> Node().id:Integer,\n",
       "                dataneeds/tests/*.nef >> Sep(',', 2) >> Cons >> Cons[1] >> Node().label:String],\n",
       "               [dataneeds/tests/*.nef >> Sep(',', 2) >> Cons >> Cons[0] >> Both >> Node().id:Integer,\n",
       "                dataneeds/tests/*.nef >> Sep(',', 2) >> Cons >> Cons[1] >> Node().label:String])),\n",
       "             ((Files(dataneeds/tests/*.nef),\n",
       "               (Files(dataneeds/tests/*.nlf), Files(dataneeds/tests/*.nlf))),\n",
       "              ([dataneeds/tests/*.nef >> Sep(',', 2) >> Cons >> Cons[0] >> Both >> Edge.source->Node().id,\n",
       "                dataneeds/tests/*.nef >> Sep(',', 2) >> Cons >> Cons[2] >> Sep(',', -1) >> Each >> Sep(':', -1) >> Cons >> Cons[2] >> Edge.target->Node().id,\n",
       "                dataneeds/tests/*.nef >> Sep(',', 2) >> Cons >> Cons[2] >> Sep(',', -1) >> Each >> Sep(':', -1) >> Cons >> Cons[1] >> Edge().weight:Floating],\n",
       "               [dataneeds/tests/*.nlf >> Sep(',', 2) >> Cons >> Cons[0] >> Node().id:Integer,\n",
       "                dataneeds/tests/*.nlf >> Sep(',', 2) >> Cons >> Cons[1] >> Node().label:String],\n",
       "               [dataneeds/tests/*.nlf >> Sep(',', 2) >> Cons >> Cons[0] >> Node().id:Integer,\n",
       "                dataneeds/tests/*.nlf >> Sep(',', 2) >> Cons >> Cons[1] >> Node().label:String],\n",
       "               [dataneeds/tests/*.nlf >> Sep(',', 2) >> Cons >> Cons[0] >> Node().id:Integer,\n",
       "                dataneeds/tests/*.nlf >> Sep(',', 2) >> Cons >> Cons[1] >> Node().label:String],\n",
       "               [dataneeds/tests/*.nlf >> Sep(',', 2) >> Cons >> Cons[0] >> Node().id:Integer,\n",
       "                dataneeds/tests/*.nlf >> Sep(',', 2) >> Cons >> Cons[1] >> Node().label:String])),\n",
       "             ((Files(dataneeds/tests/*.nef),\n",
       "               (Files(dataneeds/tests/*.nlf), Files(dataneeds/tests/*.nef))),\n",
       "              ([dataneeds/tests/*.nef >> Sep(',', 2) >> Cons >> Cons[0] >> Both >> Edge.source->Node().id,\n",
       "                dataneeds/tests/*.nef >> Sep(',', 2) >> Cons >> Cons[2] >> Sep(',', -1) >> Each >> Sep(':', -1) >> Cons >> Cons[2] >> Edge.target->Node().id,\n",
       "                dataneeds/tests/*.nef >> Sep(',', 2) >> Cons >> Cons[2] >> Sep(',', -1) >> Each >> Sep(':', -1) >> Cons >> Cons[1] >> Edge().weight:Floating],\n",
       "               [dataneeds/tests/*.nlf >> Sep(',', 2) >> Cons >> Cons[0] >> Node().id:Integer,\n",
       "                dataneeds/tests/*.nlf >> Sep(',', 2) >> Cons >> Cons[1] >> Node().label:String],\n",
       "               [dataneeds/tests/*.nef >> Sep(',', 2) >> Cons >> Cons[0] >> Both >> Node().id:Integer,\n",
       "                dataneeds/tests/*.nef >> Sep(',', 2) >> Cons >> Cons[1] >> Node().label:String],\n",
       "               [dataneeds/tests/*.nlf >> Sep(',', 2) >> Cons >> Cons[0] >> Node().id:Integer,\n",
       "                dataneeds/tests/*.nlf >> Sep(',', 2) >> Cons >> Cons[1] >> Node().label:String],\n",
       "               [dataneeds/tests/*.nef >> Sep(',', 2) >> Cons >> Cons[0] >> Both >> Node().id:Integer,\n",
       "                dataneeds/tests/*.nef >> Sep(',', 2) >> Cons >> Cons[1] >> Node().label:String])),\n",
       "             ((Files(dataneeds/tests/*.nef),\n",
       "               (Files(dataneeds/tests/*.nef), Files(dataneeds/tests/*.nlf))),\n",
       "              ([dataneeds/tests/*.nef >> Sep(',', 2) >> Cons >> Cons[0] >> Both >> Edge.source->Node().id,\n",
       "                dataneeds/tests/*.nef >> Sep(',', 2) >> Cons >> Cons[2] >> Sep(',', -1) >> Each >> Sep(':', -1) >> Cons >> Cons[2] >> Edge.target->Node().id,\n",
       "                dataneeds/tests/*.nef >> Sep(',', 2) >> Cons >> Cons[2] >> Sep(',', -1) >> Each >> Sep(':', -1) >> Cons >> Cons[1] >> Edge().weight:Floating],\n",
       "               [dataneeds/tests/*.nef >> Sep(',', 2) >> Cons >> Cons[0] >> Both >> Node().id:Integer,\n",
       "                dataneeds/tests/*.nef >> Sep(',', 2) >> Cons >> Cons[1] >> Node().label:String],\n",
       "               [dataneeds/tests/*.nlf >> Sep(',', 2) >> Cons >> Cons[0] >> Node().id:Integer,\n",
       "                dataneeds/tests/*.nlf >> Sep(',', 2) >> Cons >> Cons[1] >> Node().label:String],\n",
       "               [dataneeds/tests/*.nef >> Sep(',', 2) >> Cons >> Cons[0] >> Both >> Node().id:Integer,\n",
       "                dataneeds/tests/*.nef >> Sep(',', 2) >> Cons >> Cons[1] >> Node().label:String],\n",
       "               [dataneeds/tests/*.nlf >> Sep(',', 2) >> Cons >> Cons[0] >> Node().id:Integer,\n",
       "                dataneeds/tests/*.nlf >> Sep(',', 2) >> Cons >> Cons[1] >> Node().label:String])),\n",
       "             ((Files(dataneeds/tests/*.nef),\n",
       "               (Files(dataneeds/tests/*.nef), Files(dataneeds/tests/*.nef))),\n",
       "              ([dataneeds/tests/*.nef >> Sep(',', 2) >> Cons >> Cons[0] >> Both >> Edge.source->Node().id,\n",
       "                dataneeds/tests/*.nef >> Sep(',', 2) >> Cons >> Cons[2] >> Sep(',', -1) >> Each >> Sep(':', -1) >> Cons >> Cons[2] >> Edge.target->Node().id,\n",
       "                dataneeds/tests/*.nef >> Sep(',', 2) >> Cons >> Cons[2] >> Sep(',', -1) >> Each >> Sep(':', -1) >> Cons >> Cons[1] >> Edge().weight:Floating],\n",
       "               [dataneeds/tests/*.nef >> Sep(',', 2) >> Cons >> Cons[0] >> Both >> Node().id:Integer,\n",
       "                dataneeds/tests/*.nef >> Sep(',', 2) >> Cons >> Cons[1] >> Node().label:String],\n",
       "               [dataneeds/tests/*.nef >> Sep(',', 2) >> Cons >> Cons[0] >> Both >> Node().id:Integer,\n",
       "                dataneeds/tests/*.nef >> Sep(',', 2) >> Cons >> Cons[1] >> Node().label:String],\n",
       "               [dataneeds/tests/*.nef >> Sep(',', 2) >> Cons >> Cons[0] >> Both >> Node().id:Integer,\n",
       "                dataneeds/tests/*.nef >> Sep(',', 2) >> Cons >> Cons[1] >> Node().label:String],\n",
       "               [dataneeds/tests/*.nef >> Sep(',', 2) >> Cons >> Cons[0] >> Both >> Node().id:Integer,\n",
       "                dataneeds/tests/*.nef >> Sep(',', 2) >> Cons >> Cons[1] >> Node().label:String]))])"
      ]
     },
     "execution_count": 15,
     "metadata": {},
     "output_type": "execute_result"
    }
   ],
   "source": [
    "E.resolve_combined()"
   ]
  },
  {
   "cell_type": "code",
   "execution_count": 36,
   "metadata": {
    "collapsed": true
   },
   "outputs": [],
   "source": [
    "primary = E.resolve_primary()\n",
    "joins = E.resolve_joins()"
   ]
  },
  {
   "cell_type": "code",
   "execution_count": 56,
   "metadata": {
    "collapsed": false
   },
   "outputs": [
    {
     "data": {
      "text/plain": [
       "{dataneeds/tests/*.elf >> Sep(',', -1) >> Cons >> Cons[2] >> Edge.source->Node().id: OrderedDict([(Files(dataneeds/tests/*.nlf),\n",
       "               [dataneeds/tests/*.nlf >> Sep(',', 2) >> Cons >> Cons[0] >> Node().id:Integer,\n",
       "                dataneeds/tests/*.nlf >> Sep(',', 2) >> Cons >> Cons[1] >> Node().label:String]),\n",
       "              (Files(dataneeds/tests/*.nef),\n",
       "               [dataneeds/tests/*.nef >> Sep(',', 2) >> Cons >> Cons[0] >> Both >> Node().id:Integer,\n",
       "                dataneeds/tests/*.nef >> Sep(',', 2) >> Cons >> Cons[1] >> Node().label:String])]),\n",
       " dataneeds/tests/*.elf >> Sep(',', -1) >> Cons >> Cons[3] >> Edge.target->Node().id: OrderedDict([(Files(dataneeds/tests/*.nlf),\n",
       "               [dataneeds/tests/*.nlf >> Sep(',', 2) >> Cons >> Cons[0] >> Node().id:Integer,\n",
       "                dataneeds/tests/*.nlf >> Sep(',', 2) >> Cons >> Cons[1] >> Node().label:String]),\n",
       "              (Files(dataneeds/tests/*.nef),\n",
       "               [dataneeds/tests/*.nef >> Sep(',', 2) >> Cons >> Cons[0] >> Both >> Node().id:Integer,\n",
       "                dataneeds/tests/*.nef >> Sep(',', 2) >> Cons >> Cons[1] >> Node().label:String])]),\n",
       " dataneeds/tests/*.nef >> Sep(',', 2) >> Cons >> Cons[2] >> Sep(',', -1) >> Each >> Sep(':', -1) >> Cons >> Cons[2] >> Edge.target->Node().id: OrderedDict([(Files(dataneeds/tests/*.nlf),\n",
       "               [dataneeds/tests/*.nlf >> Sep(',', 2) >> Cons >> Cons[0] >> Node().id:Integer,\n",
       "                dataneeds/tests/*.nlf >> Sep(',', 2) >> Cons >> Cons[1] >> Node().label:String]),\n",
       "              (Files(dataneeds/tests/*.nef),\n",
       "               [dataneeds/tests/*.nef >> Sep(',', 2) >> Cons >> Cons[0] >> Both >> Node().id:Integer,\n",
       "                dataneeds/tests/*.nef >> Sep(',', 2) >> Cons >> Cons[1] >> Node().label:String])]),\n",
       " dataneeds/tests/*.nef >> Sep(',', 2) >> Cons >> Cons[0] >> Both >> Edge.source->Node().id: OrderedDict([(Files(dataneeds/tests/*.nlf),\n",
       "               [dataneeds/tests/*.nlf >> Sep(',', 2) >> Cons >> Cons[0] >> Node().id:Integer,\n",
       "                dataneeds/tests/*.nlf >> Sep(',', 2) >> Cons >> Cons[1] >> Node().label:String]),\n",
       "              (Files(dataneeds/tests/*.nef),\n",
       "               [dataneeds/tests/*.nef >> Sep(',', 2) >> Cons >> Cons[0] >> Both >> Node().id:Integer,\n",
       "                dataneeds/tests/*.nef >> Sep(',', 2) >> Cons >> Cons[1] >> Node().label:String])])}"
      ]
     },
     "execution_count": 56,
     "metadata": {},
     "output_type": "execute_result"
    }
   ],
   "source": [
    "joins"
   ]
  },
  {
   "cell_type": "code",
   "execution_count": 47,
   "metadata": {
    "collapsed": true
   },
   "outputs": [],
   "source": [
    "import itertools as it"
   ]
  },
  {
   "cell_type": "code",
   "execution_count": 50,
   "metadata": {
    "collapsed": false
   },
   "outputs": [
    {
     "data": {
      "text/plain": [
       "[dataneeds/tests/*.nef >> Sep(',', 2) >> Cons >> Cons[0] >> Both >> Edge.source->Node().id,\n",
       " dataneeds/tests/*.nef >> Sep(',', 2) >> Cons >> Cons[2] >> Sep(',', -1) >> Each >> Sep(':', -1) >> Cons >> Cons[2] >> Edge.target->Node().id,\n",
       " dataneeds/tests/*.nef >> Sep(',', 2) >> Cons >> Cons[2] >> Sep(',', -1) >> Each >> Sep(':', -1) >> Cons >> Cons[1] >> Edge().weight:Floating]"
      ]
     },
     "execution_count": 50,
     "metadata": {},
     "output_type": "execute_result"
    }
   ],
   "source": [
    "ps"
   ]
  },
  {
   "cell_type": "code",
   "execution_count": 55,
   "metadata": {
    "collapsed": false
   },
   "outputs": [
    {
     "data": {
      "text/plain": [
       "[[(Files(dataneeds/tests/*.elf),\n",
       "   Files(dataneeds/tests/*.nlf),\n",
       "   Files(dataneeds/tests/*.nlf)),\n",
       "  (Files(dataneeds/tests/*.elf),\n",
       "   Files(dataneeds/tests/*.nlf),\n",
       "   Files(dataneeds/tests/*.nef)),\n",
       "  (Files(dataneeds/tests/*.elf),\n",
       "   Files(dataneeds/tests/*.nef),\n",
       "   Files(dataneeds/tests/*.nlf)),\n",
       "  (Files(dataneeds/tests/*.elf),\n",
       "   Files(dataneeds/tests/*.nef),\n",
       "   Files(dataneeds/tests/*.nef))],\n",
       " [(Files(dataneeds/tests/*.nef),\n",
       "   Files(dataneeds/tests/*.nlf),\n",
       "   Files(dataneeds/tests/*.nlf)),\n",
       "  (Files(dataneeds/tests/*.nef),\n",
       "   Files(dataneeds/tests/*.nlf),\n",
       "   Files(dataneeds/tests/*.nef)),\n",
       "  (Files(dataneeds/tests/*.nef),\n",
       "   Files(dataneeds/tests/*.nef),\n",
       "   Files(dataneeds/tests/*.nlf)),\n",
       "  (Files(dataneeds/tests/*.nef),\n",
       "   Files(dataneeds/tests/*.nef),\n",
       "   Files(dataneeds/tests/*.nef))]]"
      ]
     },
     "execution_count": 55,
     "metadata": {},
     "output_type": "execute_result"
    }
   ],
   "source": [
    "[[(s,) + jj for jj in it.product(*[joins[p] for p in ps if p in joins])] for s, ps in primary.items()]"
   ]
  },
  {
   "cell_type": "code",
   "execution_count": 40,
   "metadata": {
    "collapsed": false
   },
   "outputs": [],
   "source": [
    "for s, ps in primary.items():\n",
    "    for p in ps:\n",
    "        js = joins[p]\n",
    "        break"
   ]
  },
  {
   "cell_type": "code",
   "execution_count": 41,
   "metadata": {
    "collapsed": false
   },
   "outputs": [
    {
     "data": {
      "text/plain": [
       "(Files(dataneeds/tests/*.nef),\n",
       " dataneeds/tests/*.nef >> Sep(',', 2) >> Cons >> Cons[0] >> Both >> Edge.source->Node().id,\n",
       " OrderedDict([(Files(dataneeds/tests/*.nlf),\n",
       "               [dataneeds/tests/*.nlf >> Sep(',', 2) >> Cons >> Cons[0] >> Node().id:Integer,\n",
       "                dataneeds/tests/*.nlf >> Sep(',', 2) >> Cons >> Cons[1] >> Node().label:String]),\n",
       "              (Files(dataneeds/tests/*.nef),\n",
       "               [dataneeds/tests/*.nef >> Sep(',', 2) >> Cons >> Cons[0] >> Both >> Node().id:Integer,\n",
       "                dataneeds/tests/*.nef >> Sep(',', 2) >> Cons >> Cons[1] >> Node().label:String])]))"
      ]
     },
     "execution_count": 41,
     "metadata": {},
     "output_type": "execute_result"
    }
   ],
   "source": [
    "s, p, js"
   ]
  },
  {
   "cell_type": "code",
   "execution_count": 32,
   "metadata": {
    "collapsed": false
   },
   "outputs": [
    {
     "data": {
      "text/plain": [
       "OrderedDict([(Files(dataneeds/tests/*.elf),\n",
       "              [dataneeds/tests/*.elf >> Sep(',', -1) >> Cons >> Cons[2] >> Edge.source->Node().id,\n",
       "               dataneeds/tests/*.elf >> Sep(',', -1) >> Cons >> Cons[3] >> Edge.target->Node().id,\n",
       "               dataneeds/tests/*.elf >> Sep(',', -1) >> Cons >> Cons[1] >> Edge().weight:Floating]),\n",
       "             (Files(dataneeds/tests/*.nef),\n",
       "              [dataneeds/tests/*.nef >> Sep(',', 2) >> Cons >> Cons[0] >> Both >> Edge.source->Node().id,\n",
       "               dataneeds/tests/*.nef >> Sep(',', 2) >> Cons >> Cons[2] >> Sep(',', -1) >> Each >> Sep(':', -1) >> Cons >> Cons[2] >> Edge.target->Node().id,\n",
       "               dataneeds/tests/*.nef >> Sep(',', 2) >> Cons >> Cons[2] >> Sep(',', -1) >> Each >> Sep(':', -1) >> Cons >> Cons[1] >> Edge().weight:Floating])])"
      ]
     },
     "execution_count": 32,
     "metadata": {},
     "output_type": "execute_result"
    }
   ],
   "source": [
    "product(primary.keys(), *[js.keys() for js in joins.v)"
   ]
  },
  {
   "cell_type": "code",
   "execution_count": 22,
   "metadata": {
    "collapsed": true
   },
   "outputs": [],
   "source": [
    "bags = {}"
   ]
  },
  {
   "cell_type": "code",
   "execution_count": 23,
   "metadata": {
    "collapsed": true
   },
   "outputs": [],
   "source": [
    "a, b, c = primary"
   ]
  },
  {
   "cell_type": "code",
   "execution_count": 24,
   "metadata": {
    "collapsed": false
   },
   "outputs": [
    {
     "data": {
      "text/plain": [
       "Edge.source->Node().id"
      ]
     },
     "execution_count": 24,
     "metadata": {},
     "output_type": "execute_result"
    }
   ],
   "source": [
    "a.binds"
   ]
  },
  {
   "cell_type": "code",
   "execution_count": 21,
   "metadata": {
    "collapsed": false
   },
   "outputs": [
    {
     "data": {
      "text/plain": [
       "[Edge.source->Node().label, Edge.target->Node().label, Edge().weight: Floating]"
      ]
     },
     "execution_count": 21,
     "metadata": {},
     "output_type": "execute_result"
    }
   ],
   "source": [
    "returns"
   ]
  },
  {
   "cell_type": "code",
   "execution_count": 4,
   "metadata": {
    "collapsed": false
   },
   "outputs": [
    {
     "data": {
      "text/plain": [
       "OrderedDict([(Files(dataneeds/tests/*.elf),\n",
       "              [dataneeds/tests/*.elf >> Sep(',', -1) >> Cons >> Cons[2] >> Edge.source->Node().id,\n",
       "               dataneeds/tests/*.elf >> Sep(',', -1) >> Cons >> Cons[3] >> Edge.target->Node().id,\n",
       "               dataneeds/tests/*.elf >> Sep(',', -1) >> Cons >> Cons[1] >> Edge().weight:Floating]),\n",
       "             (Files(dataneeds/tests/*.nef),\n",
       "              [dataneeds/tests/*.nef >> Sep(',', 2) >> Cons >> Cons[0] >> Both >> Edge.source->Node().id,\n",
       "               dataneeds/tests/*.nef >> Sep(',', 2) >> Cons >> Cons[2] >> Sep(',', -1) >> Each >> Sep(':', -1) >> Cons >> Cons[2] >> Edge.target->Node().id,\n",
       "               dataneeds/tests/*.nef >> Sep(',', 2) >> Cons >> Cons[2] >> Sep(',', -1) >> Each >> Sep(':', -1) >> Cons >> Cons[1] >> Edge().weight:Floating])])"
      ]
     },
     "execution_count": 4,
     "metadata": {},
     "output_type": "execute_result"
    }
   ],
   "source": [
    "E.resolve_primary()"
   ]
  },
  {
   "cell_type": "code",
   "execution_count": 5,
   "metadata": {
    "collapsed": false
   },
   "outputs": [
    {
     "data": {
      "text/plain": [
       "{dataneeds/tests/*.elf >> Sep(',', -1) >> Cons >> Cons[2] >> Edge.source->Node().id: OrderedDict([(Files(dataneeds/tests/*.nlf),\n",
       "               [dataneeds/tests/*.nlf >> Sep(',', 2) >> Cons >> Cons[0] >> Node().id:Integer,\n",
       "                dataneeds/tests/*.nlf >> Sep(',', 2) >> Cons >> Cons[1] >> Node().label:String]),\n",
       "              (Files(dataneeds/tests/*.nef),\n",
       "               [dataneeds/tests/*.nef >> Sep(',', 2) >> Cons >> Cons[0] >> Both >> Node().id:Integer,\n",
       "                dataneeds/tests/*.nef >> Sep(',', 2) >> Cons >> Cons[1] >> Node().label:String])]),\n",
       " dataneeds/tests/*.elf >> Sep(',', -1) >> Cons >> Cons[3] >> Edge.target->Node().id: OrderedDict([(Files(dataneeds/tests/*.nlf),\n",
       "               [dataneeds/tests/*.nlf >> Sep(',', 2) >> Cons >> Cons[0] >> Node().id:Integer,\n",
       "                dataneeds/tests/*.nlf >> Sep(',', 2) >> Cons >> Cons[1] >> Node().label:String]),\n",
       "              (Files(dataneeds/tests/*.nef),\n",
       "               [dataneeds/tests/*.nef >> Sep(',', 2) >> Cons >> Cons[0] >> Both >> Node().id:Integer,\n",
       "                dataneeds/tests/*.nef >> Sep(',', 2) >> Cons >> Cons[1] >> Node().label:String])]),\n",
       " dataneeds/tests/*.nef >> Sep(',', 2) >> Cons >> Cons[2] >> Sep(',', -1) >> Each >> Sep(':', -1) >> Cons >> Cons[2] >> Edge.target->Node().id: OrderedDict([(Files(dataneeds/tests/*.nlf),\n",
       "               [dataneeds/tests/*.nlf >> Sep(',', 2) >> Cons >> Cons[0] >> Node().id:Integer,\n",
       "                dataneeds/tests/*.nlf >> Sep(',', 2) >> Cons >> Cons[1] >> Node().label:String]),\n",
       "              (Files(dataneeds/tests/*.nef),\n",
       "               [dataneeds/tests/*.nef >> Sep(',', 2) >> Cons >> Cons[0] >> Both >> Node().id:Integer,\n",
       "                dataneeds/tests/*.nef >> Sep(',', 2) >> Cons >> Cons[1] >> Node().label:String])]),\n",
       " dataneeds/tests/*.nef >> Sep(',', 2) >> Cons >> Cons[0] >> Both >> Edge.source->Node().id: OrderedDict([(Files(dataneeds/tests/*.nlf),\n",
       "               [dataneeds/tests/*.nlf >> Sep(',', 2) >> Cons >> Cons[0] >> Node().id:Integer,\n",
       "                dataneeds/tests/*.nlf >> Sep(',', 2) >> Cons >> Cons[1] >> Node().label:String]),\n",
       "              (Files(dataneeds/tests/*.nef),\n",
       "               [dataneeds/tests/*.nef >> Sep(',', 2) >> Cons >> Cons[0] >> Both >> Node().id:Integer,\n",
       "                dataneeds/tests/*.nef >> Sep(',', 2) >> Cons >> Cons[1] >> Node().label:String])])}"
      ]
     },
     "execution_count": 5,
     "metadata": {},
     "output_type": "execute_result"
    }
   ],
   "source": [
    "E.resolve_joins()"
   ]
  },
  {
   "cell_type": "code",
   "execution_count": 30,
   "metadata": {
    "collapsed": false
   },
   "outputs": [
    {
     "data": {
      "text/plain": [
       "OrderedDict([((Files(dataneeds/tests/*.elf),\n",
       "               Files(dataneeds/tests/*.nlf),\n",
       "               Files(dataneeds/tests/*.nlf)),\n",
       "              ([dataneeds/tests/*.elf >> Sep(',', -1) >> Cons >> Cons[2] >> Edge.source->Node().id,\n",
       "                dataneeds/tests/*.elf >> Sep(',', -1) >> Cons >> Cons[3] >> Edge.target->Node().id,\n",
       "                dataneeds/tests/*.elf >> Sep(',', -1) >> Cons >> Cons[1] >> Edge().weight:Floating],\n",
       "               [dataneeds/tests/*.nlf >> Sep(',', 2) >> Cons >> Cons[0] >> Node().id:Integer,\n",
       "                dataneeds/tests/*.nlf >> Sep(',', 2) >> Cons >> Cons[1] >> Node().label:String],\n",
       "               [dataneeds/tests/*.nlf >> Sep(',', 2) >> Cons >> Cons[0] >> Node().id:Integer,\n",
       "                dataneeds/tests/*.nlf >> Sep(',', 2) >> Cons >> Cons[1] >> Node().label:String])),\n",
       "             ((Files(dataneeds/tests/*.elf),\n",
       "               Files(dataneeds/tests/*.nlf),\n",
       "               Files(dataneeds/tests/*.nef)),\n",
       "              ([dataneeds/tests/*.elf >> Sep(',', -1) >> Cons >> Cons[2] >> Edge.source->Node().id,\n",
       "                dataneeds/tests/*.elf >> Sep(',', -1) >> Cons >> Cons[3] >> Edge.target->Node().id,\n",
       "                dataneeds/tests/*.elf >> Sep(',', -1) >> Cons >> Cons[1] >> Edge().weight:Floating],\n",
       "               [dataneeds/tests/*.nlf >> Sep(',', 2) >> Cons >> Cons[0] >> Node().id:Integer,\n",
       "                dataneeds/tests/*.nlf >> Sep(',', 2) >> Cons >> Cons[1] >> Node().label:String],\n",
       "               [dataneeds/tests/*.nef >> Sep(',', 2) >> Cons >> Cons[0] >> Both >> Node().id:Integer,\n",
       "                dataneeds/tests/*.nef >> Sep(',', 2) >> Cons >> Cons[1] >> Node().label:String])),\n",
       "             ((Files(dataneeds/tests/*.elf),\n",
       "               Files(dataneeds/tests/*.nef),\n",
       "               Files(dataneeds/tests/*.nlf)),\n",
       "              ([dataneeds/tests/*.elf >> Sep(',', -1) >> Cons >> Cons[2] >> Edge.source->Node().id,\n",
       "                dataneeds/tests/*.elf >> Sep(',', -1) >> Cons >> Cons[3] >> Edge.target->Node().id,\n",
       "                dataneeds/tests/*.elf >> Sep(',', -1) >> Cons >> Cons[1] >> Edge().weight:Floating],\n",
       "               [dataneeds/tests/*.nef >> Sep(',', 2) >> Cons >> Cons[0] >> Both >> Node().id:Integer,\n",
       "                dataneeds/tests/*.nef >> Sep(',', 2) >> Cons >> Cons[1] >> Node().label:String],\n",
       "               [dataneeds/tests/*.nlf >> Sep(',', 2) >> Cons >> Cons[0] >> Node().id:Integer,\n",
       "                dataneeds/tests/*.nlf >> Sep(',', 2) >> Cons >> Cons[1] >> Node().label:String])),\n",
       "             ((Files(dataneeds/tests/*.elf),\n",
       "               Files(dataneeds/tests/*.nef),\n",
       "               Files(dataneeds/tests/*.nef)),\n",
       "              ([dataneeds/tests/*.elf >> Sep(',', -1) >> Cons >> Cons[2] >> Edge.source->Node().id,\n",
       "                dataneeds/tests/*.elf >> Sep(',', -1) >> Cons >> Cons[3] >> Edge.target->Node().id,\n",
       "                dataneeds/tests/*.elf >> Sep(',', -1) >> Cons >> Cons[1] >> Edge().weight:Floating],\n",
       "               [dataneeds/tests/*.nef >> Sep(',', 2) >> Cons >> Cons[0] >> Both >> Node().id:Integer,\n",
       "                dataneeds/tests/*.nef >> Sep(',', 2) >> Cons >> Cons[1] >> Node().label:String],\n",
       "               [dataneeds/tests/*.nef >> Sep(',', 2) >> Cons >> Cons[0] >> Both >> Node().id:Integer,\n",
       "                dataneeds/tests/*.nef >> Sep(',', 2) >> Cons >> Cons[1] >> Node().label:String])),\n",
       "             ((Files(dataneeds/tests/*.nef),\n",
       "               Files(dataneeds/tests/*.nlf),\n",
       "               Files(dataneeds/tests/*.nlf)),\n",
       "              ([dataneeds/tests/*.nef >> Sep(',', 2) >> Cons >> Cons[0] >> Both >> Edge.source->Node().id,\n",
       "                dataneeds/tests/*.nef >> Sep(',', 2) >> Cons >> Cons[2] >> Sep(',', -1) >> Each >> Sep(':', -1) >> Cons >> Cons[2] >> Edge.target->Node().id,\n",
       "                dataneeds/tests/*.nef >> Sep(',', 2) >> Cons >> Cons[2] >> Sep(',', -1) >> Each >> Sep(':', -1) >> Cons >> Cons[1] >> Edge().weight:Floating],\n",
       "               [dataneeds/tests/*.nlf >> Sep(',', 2) >> Cons >> Cons[0] >> Node().id:Integer,\n",
       "                dataneeds/tests/*.nlf >> Sep(',', 2) >> Cons >> Cons[1] >> Node().label:String],\n",
       "               [dataneeds/tests/*.nlf >> Sep(',', 2) >> Cons >> Cons[0] >> Node().id:Integer,\n",
       "                dataneeds/tests/*.nlf >> Sep(',', 2) >> Cons >> Cons[1] >> Node().label:String])),\n",
       "             ((Files(dataneeds/tests/*.nef),\n",
       "               Files(dataneeds/tests/*.nlf),\n",
       "               Files(dataneeds/tests/*.nef)),\n",
       "              ([dataneeds/tests/*.nef >> Sep(',', 2) >> Cons >> Cons[0] >> Both >> Edge.source->Node().id,\n",
       "                dataneeds/tests/*.nef >> Sep(',', 2) >> Cons >> Cons[2] >> Sep(',', -1) >> Each >> Sep(':', -1) >> Cons >> Cons[2] >> Edge.target->Node().id,\n",
       "                dataneeds/tests/*.nef >> Sep(',', 2) >> Cons >> Cons[2] >> Sep(',', -1) >> Each >> Sep(':', -1) >> Cons >> Cons[1] >> Edge().weight:Floating],\n",
       "               [dataneeds/tests/*.nlf >> Sep(',', 2) >> Cons >> Cons[0] >> Node().id:Integer,\n",
       "                dataneeds/tests/*.nlf >> Sep(',', 2) >> Cons >> Cons[1] >> Node().label:String],\n",
       "               [dataneeds/tests/*.nef >> Sep(',', 2) >> Cons >> Cons[0] >> Both >> Node().id:Integer,\n",
       "                dataneeds/tests/*.nef >> Sep(',', 2) >> Cons >> Cons[1] >> Node().label:String])),\n",
       "             ((Files(dataneeds/tests/*.nef),\n",
       "               Files(dataneeds/tests/*.nef),\n",
       "               Files(dataneeds/tests/*.nlf)),\n",
       "              ([dataneeds/tests/*.nef >> Sep(',', 2) >> Cons >> Cons[0] >> Both >> Edge.source->Node().id,\n",
       "                dataneeds/tests/*.nef >> Sep(',', 2) >> Cons >> Cons[2] >> Sep(',', -1) >> Each >> Sep(':', -1) >> Cons >> Cons[2] >> Edge.target->Node().id,\n",
       "                dataneeds/tests/*.nef >> Sep(',', 2) >> Cons >> Cons[2] >> Sep(',', -1) >> Each >> Sep(':', -1) >> Cons >> Cons[1] >> Edge().weight:Floating],\n",
       "               [dataneeds/tests/*.nef >> Sep(',', 2) >> Cons >> Cons[0] >> Both >> Node().id:Integer,\n",
       "                dataneeds/tests/*.nef >> Sep(',', 2) >> Cons >> Cons[1] >> Node().label:String],\n",
       "               [dataneeds/tests/*.nlf >> Sep(',', 2) >> Cons >> Cons[0] >> Node().id:Integer,\n",
       "                dataneeds/tests/*.nlf >> Sep(',', 2) >> Cons >> Cons[1] >> Node().label:String])),\n",
       "             ((Files(dataneeds/tests/*.nef),\n",
       "               Files(dataneeds/tests/*.nef),\n",
       "               Files(dataneeds/tests/*.nef)),\n",
       "              ([dataneeds/tests/*.nef >> Sep(',', 2) >> Cons >> Cons[0] >> Both >> Edge.source->Node().id,\n",
       "                dataneeds/tests/*.nef >> Sep(',', 2) >> Cons >> Cons[2] >> Sep(',', -1) >> Each >> Sep(':', -1) >> Cons >> Cons[2] >> Edge.target->Node().id,\n",
       "                dataneeds/tests/*.nef >> Sep(',', 2) >> Cons >> Cons[2] >> Sep(',', -1) >> Each >> Sep(':', -1) >> Cons >> Cons[1] >> Edge().weight:Floating],\n",
       "               [dataneeds/tests/*.nef >> Sep(',', 2) >> Cons >> Cons[0] >> Both >> Node().id:Integer,\n",
       "                dataneeds/tests/*.nef >> Sep(',', 2) >> Cons >> Cons[1] >> Node().label:String],\n",
       "               [dataneeds/tests/*.nef >> Sep(',', 2) >> Cons >> Cons[0] >> Both >> Node().id:Integer,\n",
       "                dataneeds/tests/*.nef >> Sep(',', 2) >> Cons >> Cons[1] >> Node().label:String]))])"
      ]
     },
     "execution_count": 30,
     "metadata": {},
     "output_type": "execute_result"
    }
   ],
   "source": [
    "E.resolve_combined()"
   ]
  },
  {
   "cell_type": "code",
   "execution_count": 9,
   "metadata": {
    "collapsed": false
   },
   "outputs": [
    {
     "data": {
      "text/plain": [
       "[(Files(dataneeds/tests/*.elf),\n",
       "  Files(dataneeds/tests/*.nlf),\n",
       "  Files(dataneeds/tests/*.nlf)),\n",
       " (Files(dataneeds/tests/*.elf),\n",
       "  Files(dataneeds/tests/*.nlf),\n",
       "  Files(dataneeds/tests/*.nef)),\n",
       " (Files(dataneeds/tests/*.elf),\n",
       "  Files(dataneeds/tests/*.nef),\n",
       "  Files(dataneeds/tests/*.nlf)),\n",
       " (Files(dataneeds/tests/*.elf),\n",
       "  Files(dataneeds/tests/*.nef),\n",
       "  Files(dataneeds/tests/*.nef)),\n",
       " (Files(dataneeds/tests/*.nef),\n",
       "  Files(dataneeds/tests/*.nlf),\n",
       "  Files(dataneeds/tests/*.nlf)),\n",
       " (Files(dataneeds/tests/*.nef),\n",
       "  Files(dataneeds/tests/*.nlf),\n",
       "  Files(dataneeds/tests/*.nef)),\n",
       " (Files(dataneeds/tests/*.nef),\n",
       "  Files(dataneeds/tests/*.nef),\n",
       "  Files(dataneeds/tests/*.nlf)),\n",
       " (Files(dataneeds/tests/*.nef),\n",
       "  Files(dataneeds/tests/*.nef),\n",
       "  Files(dataneeds/tests/*.nef))]"
      ]
     },
     "execution_count": 9,
     "metadata": {},
     "output_type": "execute_result"
    }
   ],
   "source": [
    "list(E.resolve_combined().keys())"
   ]
  },
  {
   "cell_type": "code",
   "execution_count": 70,
   "metadata": {
    "collapsed": true
   },
   "outputs": [],
   "source": [
    "import itertools"
   ]
  },
  {
   "cell_type": "code",
   "execution_count": 87,
   "metadata": {
    "collapsed": false
   },
   "outputs": [
    {
     "ename": "AttributeError",
     "evalue": "'list' object has no attribute 'source'",
     "output_type": "error",
     "traceback": [
      "\u001b[1;31m---------------------------------------------------------------------------\u001b[0m",
      "\u001b[1;31mAttributeError\u001b[0m                            Traceback (most recent call last)",
      "\u001b[1;32m<ipython-input-87-b8144f6b516e>\u001b[0m in \u001b[0;36m<module>\u001b[1;34m()\u001b[0m\n\u001b[0;32m      1\u001b[0m \u001b[1;32mfor\u001b[0m \u001b[0mbs\u001b[0m \u001b[1;32min\u001b[0m \u001b[0mE\u001b[0m\u001b[1;33m.\u001b[0m\u001b[0mresolve_primary\u001b[0m\u001b[1;33m(\u001b[0m\u001b[1;33m)\u001b[0m\u001b[1;33m.\u001b[0m\u001b[0mvalues\u001b[0m\u001b[1;33m(\u001b[0m\u001b[1;33m)\u001b[0m\u001b[1;33m:\u001b[0m\u001b[1;33m\u001b[0m\u001b[0m\n\u001b[0;32m      2\u001b[0m     \u001b[1;32mfor\u001b[0m \u001b[0mjs\u001b[0m \u001b[1;32min\u001b[0m \u001b[0mitertools\u001b[0m\u001b[1;33m.\u001b[0m\u001b[0mproduct\u001b[0m\u001b[1;33m(\u001b[0m\u001b[1;33m*\u001b[0m\u001b[1;33m[\u001b[0m\u001b[0mjoins\u001b[0m\u001b[1;33m[\u001b[0m\u001b[0mb\u001b[0m\u001b[1;33m]\u001b[0m\u001b[1;33m.\u001b[0m\u001b[0mkeys\u001b[0m\u001b[1;33m(\u001b[0m\u001b[1;33m)\u001b[0m \u001b[1;32mfor\u001b[0m \u001b[0mb\u001b[0m \u001b[1;32min\u001b[0m \u001b[0mbs\u001b[0m \u001b[1;32mif\u001b[0m \u001b[0mb\u001b[0m \u001b[1;32min\u001b[0m \u001b[0mjoins\u001b[0m\u001b[1;33m]\u001b[0m\u001b[1;33m)\u001b[0m\u001b[1;33m:\u001b[0m\u001b[1;33m\u001b[0m\u001b[0m\n\u001b[1;32m----> 3\u001b[1;33m         \u001b[0mprint\u001b[0m\u001b[1;33m(\u001b[0m\u001b[0mbs\u001b[0m\u001b[1;33m.\u001b[0m\u001b[0msource\u001b[0m\u001b[1;33m,\u001b[0m \u001b[1;33m*\u001b[0m\u001b[0mjs\u001b[0m\u001b[1;33m)\u001b[0m\u001b[1;33m\u001b[0m\u001b[0m\n\u001b[0m",
      "\u001b[1;31mAttributeError\u001b[0m: 'list' object has no attribute 'source'"
     ]
    }
   ],
   "source": [
    "for bs in E.resolve_primary().values():\n",
    "    for js in itertools.product(*[joins[b].keys() for b in bs if b in joins]):\n",
    "        print(bs.source, *js)"
   ]
  },
  {
   "cell_type": "code",
   "execution_count": null,
   "metadata": {
    "collapsed": true
   },
   "outputs": [],
   "source": []
  },
  {
   "cell_type": "code",
   "execution_count": 77,
   "metadata": {
    "collapsed": false
   },
   "outputs": [
    {
     "ename": "KeyError",
     "evalue": "dataneeds/tests/*.nef >> Sep(',', 2) >> Cons >> Cons[2] >> Sep(',', -1) >> Each >> Sep(':', -1) >> Cons >> Cons[1] >> Edge().weight:Floating",
     "output_type": "error",
     "traceback": [
      "\u001b[1;31m---------------------------------------------------------------------------\u001b[0m",
      "\u001b[1;31mKeyError\u001b[0m                                  Traceback (most recent call last)",
      "\u001b[1;32m<ipython-input-77-25c0d0b70c58>\u001b[0m in \u001b[0;36m<module>\u001b[1;34m()\u001b[0m\n\u001b[1;32m----> 1\u001b[1;33m \u001b[0mjoins\u001b[0m\u001b[1;33m[\u001b[0m\u001b[0mb\u001b[0m\u001b[1;33m]\u001b[0m\u001b[1;33m\u001b[0m\u001b[0m\n\u001b[0m",
      "\u001b[1;31mKeyError\u001b[0m: dataneeds/tests/*.nef >> Sep(',', 2) >> Cons >> Cons[2] >> Sep(',', -1) >> Each >> Sep(':', -1) >> Cons >> Cons[1] >> Edge().weight:Floating"
     ]
    }
   ],
   "source": [
    "joins[b]"
   ]
  },
  {
   "cell_type": "code",
   "execution_count": 55,
   "metadata": {
    "collapsed": false
   },
   "outputs": [
    {
     "data": {
      "text/plain": [
       "[dataneeds/tests/*.elf >> Sep(',', -1) >> Cons >> Cons[2] >> Edge.source->Node().id,\n",
       " dataneeds/tests/*.elf >> Sep(',', -1) >> Cons >> Cons[3] >> Edge.target->Node().id,\n",
       " dataneeds/tests/*.elf >> Sep(',', -1) >> Cons >> Cons[1] >> Edge().weight:Floating]"
      ]
     },
     "execution_count": 55,
     "metadata": {},
     "output_type": "execute_result"
    }
   ],
   "source": [
    "p"
   ]
  },
  {
   "cell_type": "code",
   "execution_count": 33,
   "metadata": {
    "collapsed": false
   },
   "outputs": [
    {
     "data": {
      "text/plain": [
       "{dataneeds/tests/*.elf >> Sep(',', -1) >> Cons >> Cons[2] >> Edge.source->Node().id: OrderedDict([(Files(dataneeds/tests/*.nlf),\n",
       "               [dataneeds/tests/*.nlf >> Sep(',', 2) >> Cons >> Cons[0] >> Node().id:Integer,\n",
       "                dataneeds/tests/*.nlf >> Sep(',', 2) >> Cons >> Cons[1] >> Node().label:String]),\n",
       "              (Files(dataneeds/tests/*.nef),\n",
       "               [dataneeds/tests/*.nef >> Sep(',', 2) >> Cons >> Cons[0] >> Both >> Node().id:Integer,\n",
       "                dataneeds/tests/*.nef >> Sep(',', 2) >> Cons >> Cons[1] >> Node().label:String])]),\n",
       " dataneeds/tests/*.elf >> Sep(',', -1) >> Cons >> Cons[3] >> Edge.target->Node().id: OrderedDict([(Files(dataneeds/tests/*.nlf),\n",
       "               [dataneeds/tests/*.nlf >> Sep(',', 2) >> Cons >> Cons[0] >> Node().id:Integer,\n",
       "                dataneeds/tests/*.nlf >> Sep(',', 2) >> Cons >> Cons[1] >> Node().label:String]),\n",
       "              (Files(dataneeds/tests/*.nef),\n",
       "               [dataneeds/tests/*.nef >> Sep(',', 2) >> Cons >> Cons[0] >> Both >> Node().id:Integer,\n",
       "                dataneeds/tests/*.nef >> Sep(',', 2) >> Cons >> Cons[1] >> Node().label:String])]),\n",
       " dataneeds/tests/*.nef >> Sep(',', 2) >> Cons >> Cons[0] >> Both >> Edge.source->Node().id: OrderedDict([(Files(dataneeds/tests/*.nlf),\n",
       "               [dataneeds/tests/*.nlf >> Sep(',', 2) >> Cons >> Cons[0] >> Node().id:Integer,\n",
       "                dataneeds/tests/*.nlf >> Sep(',', 2) >> Cons >> Cons[1] >> Node().label:String]),\n",
       "              (Files(dataneeds/tests/*.nef),\n",
       "               [dataneeds/tests/*.nef >> Sep(',', 2) >> Cons >> Cons[0] >> Both >> Node().id:Integer,\n",
       "                dataneeds/tests/*.nef >> Sep(',', 2) >> Cons >> Cons[1] >> Node().label:String])]),\n",
       " dataneeds/tests/*.nef >> Sep(',', 2) >> Cons >> Cons[2] >> Sep(',', -1) >> Each >> Sep(':', -1) >> Cons >> Cons[2] >> Edge.target->Node().id: OrderedDict([(Files(dataneeds/tests/*.nlf),\n",
       "               [dataneeds/tests/*.nlf >> Sep(',', 2) >> Cons >> Cons[0] >> Node().id:Integer,\n",
       "                dataneeds/tests/*.nlf >> Sep(',', 2) >> Cons >> Cons[1] >> Node().label:String]),\n",
       "              (Files(dataneeds/tests/*.nef),\n",
       "               [dataneeds/tests/*.nef >> Sep(',', 2) >> Cons >> Cons[0] >> Both >> Node().id:Integer,\n",
       "                dataneeds/tests/*.nef >> Sep(',', 2) >> Cons >> Cons[1] >> Node().label:String])])}"
      ]
     },
     "execution_count": 33,
     "metadata": {},
     "output_type": "execute_result"
    }
   ],
   "source": [
    "E.resolve_joins()"
   ]
  },
  {
   "cell_type": "code",
   "execution_count": 40,
   "metadata": {
    "collapsed": false
   },
   "outputs": [],
   "source": [
    "for p, js in E.resolve_joins().items():\n",
    "    break"
   ]
  },
  {
   "cell_type": "code",
   "execution_count": 43,
   "metadata": {
    "collapsed": false
   },
   "outputs": [],
   "source": [
    "jj0, jj1 = js.values()"
   ]
  },
  {
   "cell_type": "code",
   "execution_count": 47,
   "metadata": {
    "collapsed": false
   },
   "outputs": [
    {
     "data": {
      "text/plain": [
       "Node.id: Integer"
      ]
     },
     "execution_count": 47,
     "metadata": {},
     "output_type": "execute_result"
    }
   ],
   "source": [
    "jj0[0].binds.general"
   ]
  },
  {
   "cell_type": "code",
   "execution_count": 39,
   "metadata": {
    "collapsed": false
   },
   "outputs": [
    {
     "data": {
      "text/plain": [
       "OrderedDict([(Files(dataneeds/tests/*.nlf),\n",
       "              [dataneeds/tests/*.nlf >> Sep(',', 2) >> Cons >> Cons[0] >> Node().id:Integer,\n",
       "               dataneeds/tests/*.nlf >> Sep(',', 2) >> Cons >> Cons[1] >> Node().label:String]),\n",
       "             (Files(dataneeds/tests/*.nef),\n",
       "              [dataneeds/tests/*.nef >> Sep(',', 2) >> Cons >> Cons[0] >> Both >> Node().id:Integer,\n",
       "               dataneeds/tests/*.nef >> Sep(',', 2) >> Cons >> Cons[1] >> Node().label:String])])"
      ]
     },
     "execution_count": 39,
     "metadata": {},
     "output_type": "execute_result"
    }
   ],
   "source": [
    "js"
   ]
  },
  {
   "cell_type": "code",
   "execution_count": 16,
   "metadata": {
    "collapsed": false
   },
   "outputs": [
    {
     "data": {
      "text/plain": [
       "+ dataneeds/tests/*.nlf >> Sep(',', 2) >> Cons >> Cons[1] >> Node().label:String\n",
       "` dataneeds/tests/*.nef >> Sep(',', 2) >> Cons >> Cons[1] >> Node().label:String"
      ]
     },
     "execution_count": 16,
     "metadata": {},
     "output_type": "execute_result"
    }
   ],
   "source": [
    "it.joins"
   ]
  },
  {
   "cell_type": "code",
   "execution_count": 21,
   "metadata": {
    "collapsed": false
   },
   "outputs": [
    {
     "data": {
      "text/plain": [
       "+ dataneeds/tests/*.elf >> Sep(',', -1) >> Cons >> Cons[2] >> Edge.source->Node().id\n",
       "` dataneeds/tests/*.nef >> Sep(',', 2) >> Cons >> Cons[0] >> Both >> Edge.source->Node().id"
      ]
     },
     "execution_count": 21,
     "metadata": {},
     "output_type": "execute_result"
    }
   ],
   "source": [
    "it.primary"
   ]
  },
  {
   "cell_type": "code",
   "execution_count": 20,
   "metadata": {
    "collapsed": false
   },
   "outputs": [
    {
     "data": {
      "text/plain": [
       "+ dataneeds/tests/*.elf >> Sep(',', -1) >> Cons >> Cons[2] >> Edge.source->Node().id\n",
       "` dataneeds/tests/*.nef >> Sep(',', 2) >> Cons >> Cons[0] >> Both >> Edge.source->Node().id"
      ]
     },
     "execution_count": 20,
     "metadata": {},
     "output_type": "execute_result"
    }
   ],
   "source": [
    "it.item.instance.bindings"
   ]
  },
  {
   "cell_type": "code",
   "execution_count": 32,
   "metadata": {
    "collapsed": false
   },
   "outputs": [
    {
     "ename": "AttributeError",
     "evalue": "'ReferenceItem' object has no attribute 'resolve_joins'",
     "output_type": "error",
     "traceback": [
      "\u001b[1;31m---------------------------------------------------------------------------\u001b[0m",
      "\u001b[1;31mAttributeError\u001b[0m                            Traceback (most recent call last)",
      "\u001b[1;32m<ipython-input-32-044ff689e185>\u001b[0m in \u001b[0;36m<module>\u001b[1;34m()\u001b[0m\n\u001b[1;32m----> 1\u001b[1;33m \u001b[0mit\u001b[0m\u001b[1;33m.\u001b[0m\u001b[0mresolve_joins\u001b[0m\u001b[1;33m(\u001b[0m\u001b[1;33m)\u001b[0m\u001b[1;33m\u001b[0m\u001b[0m\n\u001b[0m",
      "\u001b[1;31mAttributeError\u001b[0m: 'ReferenceItem' object has no attribute 'resolve_joins'"
     ]
    }
   ],
   "source": [
    "it.resolve_joins()"
   ]
  },
  {
   "cell_type": "code",
   "execution_count": 8,
   "metadata": {
    "collapsed": false
   },
   "outputs": [
    {
     "data": {
      "text/plain": [
       "+ dataneeds/tests/*.elf >> Sep(',', -1) >> Cons >> Cons[2] >> Edge.source->Node().id\n",
       "` dataneeds/tests/*.nef >> Sep(',', 2) >> Cons >> Cons[0] >> Both >> Edge.source->Node().id"
      ]
     },
     "execution_count": 8,
     "metadata": {},
     "output_type": "execute_result"
    }
   ],
   "source": [
    "it.primary"
   ]
  },
  {
   "cell_type": "code",
   "execution_count": 22,
   "metadata": {
    "collapsed": true
   },
   "outputs": [],
   "source": [
    "for p in it.primary:\n",
    "    break"
   ]
  },
  {
   "cell_type": "code",
   "execution_count": 30,
   "metadata": {
    "collapsed": false
   },
   "outputs": [
    {
     "data": {
      "text/plain": [
       "+ dataneeds/tests/*.nlf >> Sep(',', 2) >> Cons >> Cons[0] >> Node().id:Integer\n",
       "` dataneeds/tests/*.nef >> Sep(',', 2) >> Cons >> Cons[0] >> Both >> Node().id:Integer"
      ]
     },
     "execution_count": 30,
     "metadata": {},
     "output_type": "execute_result"
    }
   ],
   "source": [
    "p.binds.attr.bindings"
   ]
  },
  {
   "cell_type": "code",
   "execution_count": 26,
   "metadata": {
    "collapsed": false
   },
   "outputs": [
    {
     "data": {
      "text/plain": [
       "False"
      ]
     },
     "execution_count": 26,
     "metadata": {},
     "output_type": "execute_result"
    }
   ],
   "source": [
    "p.binds.general == it.item.general"
   ]
  },
  {
   "cell_type": "code",
   "execution_count": 150,
   "metadata": {
    "collapsed": false
   },
   "outputs": [
    {
     "data": {
      "text/plain": [
       "Edge.source->Node().id"
      ]
     },
     "execution_count": 150,
     "metadata": {},
     "output_type": "execute_result"
    }
   ],
   "source": [
    "it.item"
   ]
  },
  {
   "cell_type": "code",
   "execution_count": 137,
   "metadata": {
    "collapsed": false
   },
   "outputs": [
    {
     "data": {
      "text/plain": [
       "{Files(dataneeds/tests/*.nef): [dataneeds/tests/*.nef >> Sep(',', 2) >> Cons >> Cons[0] >> Both >> Edge.source->Node().id,\n",
       "  dataneeds/tests/*.nef >> Sep(',', 2) >> Cons >> Cons[2] >> Sep(',', -1) >> Each >> Sep(':', -1) >> Cons >> Cons[2] >> Edge.target->Node().id,\n",
       "  dataneeds/tests/*.nef >> Sep(',', 2) >> Cons >> Cons[2] >> Sep(',', -1) >> Each >> Sep(':', -1) >> Cons >> Cons[1] >> Edge().weight:Floating],\n",
       " Files(dataneeds/tests/*.elf): [dataneeds/tests/*.elf >> Sep(',', -1) >> Cons >> Cons[2] >> Edge.source->Node().id,\n",
       "  dataneeds/tests/*.elf >> Sep(',', -1) >> Cons >> Cons[3] >> Edge.target->Node().id,\n",
       "  dataneeds/tests/*.elf >> Sep(',', -1) >> Cons >> Cons[1] >> Edge().weight:Floating]}"
      ]
     },
     "execution_count": 137,
     "metadata": {},
     "output_type": "execute_result"
    }
   ],
   "source": [
    "dict(E.resolve_primary())"
   ]
  },
  {
   "cell_type": "code",
   "execution_count": 119,
   "metadata": {
    "collapsed": false
   },
   "outputs": [
    {
     "name": "stdout",
     "output_type": "stream",
     "text": [
      "--\n",
      "dataneeds/tests/*.elf >> Sep(',', -1) >> Cons >> Cons[2] >> Edge.source->Node().id\n",
      "+ dataneeds/tests/*.elf >> Sep(',', -1) >> Cons >> Cons[2] >> Edge.source->Node().id\n",
      "` dataneeds/tests/*.nef >> Sep(',', 2) >> Cons >> Cons[0] >> Both >> Edge.source->Node().id\n",
      "+ dataneeds/tests/*.nlf >> Sep(',', 2) >> Cons >> Cons[0] >> Node().id:Integer\n",
      "` dataneeds/tests/*.nef >> Sep(',', 2) >> Cons >> Cons[0] >> Both >> Node().id:Integer\n",
      "--\n",
      "dataneeds/tests/*.nef >> Sep(',', 2) >> Cons >> Cons[0] >> Both >> Edge.source->Node().id\n",
      "+ dataneeds/tests/*.elf >> Sep(',', -1) >> Cons >> Cons[2] >> Edge.source->Node().id\n",
      "` dataneeds/tests/*.nef >> Sep(',', 2) >> Cons >> Cons[0] >> Both >> Edge.source->Node().id\n",
      "+ dataneeds/tests/*.nlf >> Sep(',', 2) >> Cons >> Cons[0] >> Node().id:Integer\n",
      "` dataneeds/tests/*.nef >> Sep(',', 2) >> Cons >> Cons[0] >> Both >> Node().id:Integer\n"
     ]
    }
   ],
   "source": [
    "for p in it.primary:\n",
    "    print('--')\n",
    "    print(repr(p))\n",
    "    print(repr(it.item.instance.bindings))\n",
    "    print(repr(it.joins))"
   ]
  },
  {
   "cell_type": "code",
   "execution_count": 122,
   "metadata": {
    "collapsed": false
   },
   "outputs": [
    {
     "data": {
      "text/plain": [
       "Edge.source->Node().id"
      ]
     },
     "execution_count": 122,
     "metadata": {},
     "output_type": "execute_result"
    }
   ],
   "source": [
    "it"
   ]
  },
  {
   "cell_type": "code",
   "execution_count": 10,
   "metadata": {
    "collapsed": true
   },
   "outputs": [],
   "source": [
    "p = E.returns[0]"
   ]
  },
  {
   "cell_type": "code",
   "execution_count": 42,
   "metadata": {
    "collapsed": false
   },
   "outputs": [
    {
     "data": {
      "text/plain": [
       "+ dataneeds/tests/*.elf >> Sep(',', -1) >> Cons >> Cons[2] >> Edge.source->Node().id\n",
       "` dataneeds/tests/*.nef >> Sep(',', 2) >> Cons >> Cons[0] >> Both >> Edge.source->Node().id"
      ]
     },
     "execution_count": 42,
     "metadata": {},
     "output_type": "execute_result"
    }
   ],
   "source": [
    "p.primary"
   ]
  },
  {
   "cell_type": "code",
   "execution_count": 41,
   "metadata": {
    "collapsed": false
   },
   "outputs": [
    {
     "data": {
      "text/plain": [
       "Edge.source->Node()"
      ]
     },
     "execution_count": 41,
     "metadata": {},
     "output_type": "execute_result"
    }
   ],
   "source": [
    "p.item.instance"
   ]
  },
  {
   "cell_type": "code",
   "execution_count": 9,
   "metadata": {
    "collapsed": false
   },
   "outputs": [
    {
     "data": {
      "text/plain": [
       "OrderedDict([(Files(dataneeds/tests/*.elf),\n",
       "              [dataneeds/tests/*.elf >> Sep(',', -1) >> Cons >> Cons[2] >> Edge.source->Node().id,\n",
       "               dataneeds/tests/*.elf >> Sep(',', -1) >> Cons >> Cons[3] >> Edge.target->Node().id,\n",
       "               dataneeds/tests/*.elf >> Sep(',', -1) >> Cons >> Cons[1] >> Edge().weight:Floating]),\n",
       "             (Files(dataneeds/tests/*.nef),\n",
       "              [dataneeds/tests/*.nef >> Sep(',', 2) >> Cons >> Cons[0] >> Both >> Edge.source->Node().id,\n",
       "               dataneeds/tests/*.nef >> Sep(',', 2) >> Cons >> Cons[2] >> Sep(',', -1) >> Each >> Sep(':', -1) >> Cons >> Cons[2] >> Edge.target->Node().id,\n",
       "               dataneeds/tests/*.nef >> Sep(',', 2) >> Cons >> Cons[2] >> Sep(',', -1) >> Each >> Sep(':', -1) >> Cons >> Cons[1] >> Edge().weight:Floating])])"
      ]
     },
     "execution_count": 9,
     "metadata": {},
     "output_type": "execute_result"
    }
   ],
   "source": [
    "E.resolve_primary()"
   ]
  },
  {
   "cell_type": "code",
   "execution_count": 5,
   "metadata": {
    "collapsed": false
   },
   "outputs": [
    {
     "data": {
      "text/plain": [
       "Edge.source->Node().label"
      ]
     },
     "execution_count": 5,
     "metadata": {},
     "output_type": "execute_result"
    }
   ],
   "source": [
    "it = E.returns[0]\n",
    "it"
   ]
  },
  {
   "cell_type": "code",
   "execution_count": 30,
   "metadata": {
    "collapsed": false
   },
   "outputs": [
    {
     "ename": "AttributeError",
     "evalue": "'ReferenceItem' object has no attribute 'primary'",
     "output_type": "error",
     "traceback": [
      "\u001b[1;31m---------------------------------------------------------------------------\u001b[0m",
      "\u001b[1;31mAttributeError\u001b[0m                            Traceback (most recent call last)",
      "\u001b[1;32m<ipython-input-30-41bce874f281>\u001b[0m in \u001b[0;36m<module>\u001b[1;34m()\u001b[0m\n\u001b[1;32m----> 1\u001b[1;33m \u001b[0mit\u001b[0m\u001b[1;33m.\u001b[0m\u001b[0mprimary\u001b[0m\u001b[1;33m\u001b[0m\u001b[0m\n\u001b[0m",
      "\u001b[1;31mAttributeError\u001b[0m: 'ReferenceItem' object has no attribute 'primary'"
     ]
    }
   ],
   "source": [
    "it.primary"
   ]
  },
  {
   "cell_type": "code",
   "execution_count": 14,
   "metadata": {
    "collapsed": true
   },
   "outputs": [],
   "source": [
    "from collections import OrderedDict\n",
    "d = OrderedDict()"
   ]
  },
  {
   "cell_type": "code",
   "execution_count": 17,
   "metadata": {
    "collapsed": false
   },
   "outputs": [],
   "source": [
    "d.setdefault('a', []).append('a')"
   ]
  },
  {
   "cell_type": "code",
   "execution_count": 18,
   "metadata": {
    "collapsed": false
   },
   "outputs": [
    {
     "data": {
      "text/plain": [
       "{'a': ['a', 'a']}"
      ]
     },
     "execution_count": 18,
     "metadata": {},
     "output_type": "execute_result"
    }
   ],
   "source": [
    "dict(d)"
   ]
  },
  {
   "cell_type": "code",
   "execution_count": 19,
   "metadata": {
    "collapsed": false
   },
   "outputs": [
    {
     "data": {
      "text/plain": [
       "OrderedDict([(0, 1), (1, 3), (2, 5), (3, 7)])"
      ]
     },
     "execution_count": 19,
     "metadata": {},
     "output_type": "execute_result"
    }
   ],
   "source": [
    "OrderedDict((i//2, i) for i in range(8))"
   ]
  },
  {
   "cell_type": "code",
   "execution_count": 9,
   "metadata": {
    "collapsed": false
   },
   "outputs": [
    {
     "data": {
      "text/plain": [
       "[Edge.source->Node().label,\n",
       " Edge.target->Node().label,\n",
       " Edge().weight: Floating,\n",
       " Edge.source->Node().id]"
      ]
     },
     "execution_count": 9,
     "metadata": {},
     "output_type": "execute_result"
    }
   ],
   "source": [
    "E.returns"
   ]
  },
  {
   "cell_type": "code",
   "execution_count": 13,
   "metadata": {
    "collapsed": false
   },
   "outputs": [],
   "source": [
    "from dataneeds.request import resolve_primary, resolve_joins"
   ]
  },
  {
   "cell_type": "code",
   "execution_count": 16,
   "metadata": {
    "collapsed": false
   },
   "outputs": [
    {
     "data": {
      "text/plain": [
       "[[dataneeds/tests/*.elf >> Sep(',', -1) >> Cons >> Cons[2] >> Edge.source->Node().id,\n",
       "  dataneeds/tests/*.elf >> Sep(',', -1) >> Cons >> Cons[3] >> Edge.target->Node().id,\n",
       "  dataneeds/tests/*.elf >> Sep(',', -1) >> Cons >> Cons[1] >> Edge().weight:Floating,\n",
       "  dataneeds/tests/*.elf >> Sep(',', -1) >> Cons >> Cons[2] >> Edge.source->Node().id],\n",
       " [dataneeds/tests/*.nef >> Sep(',', 2) >> Cons >> Cons[0] >> Both >> Edge.source->Node().id,\n",
       "  dataneeds/tests/*.nef >> Sep(',', 2) >> Cons >> Cons[2] >> Sep(',', -1) >> Each >> Sep(':', -1) >> Cons >> Cons[2] >> Edge.target->Node().id,\n",
       "  dataneeds/tests/*.nef >> Sep(',', 2) >> Cons >> Cons[2] >> Sep(',', -1) >> Each >> Sep(':', -1) >> Cons >> Cons[1] >> Edge().weight:Floating,\n",
       "  dataneeds/tests/*.nef >> Sep(',', 2) >> Cons >> Cons[0] >> Both >> Edge.source->Node().id]]"
      ]
     },
     "execution_count": 16,
     "metadata": {},
     "output_type": "execute_result"
    }
   ],
   "source": [
    "bindings = resolve_primary(E.returns)\n",
    "bindings"
   ]
  },
  {
   "cell_type": "code",
   "execution_count": 18,
   "metadata": {
    "collapsed": false
   },
   "outputs": [
    {
     "data": {
      "text/plain": [
       "[([dataneeds/tests/*.elf >> Sep(',', -1) >> Cons >> Cons[2] >> Edge.source->Node().id,\n",
       "   dataneeds/tests/*.elf >> Sep(',', -1) >> Cons >> Cons[3] >> Edge.target->Node().id,\n",
       "   dataneeds/tests/*.elf >> Sep(',', -1) >> Cons >> Cons[1] >> Edge().weight:Floating,\n",
       "   dataneeds/tests/*.elf >> Sep(',', -1) >> Cons >> Cons[2] >> Edge.source->Node().id],\n",
       "  (None, None, None, None)),\n",
       " ([dataneeds/tests/*.nef >> Sep(',', 2) >> Cons >> Cons[0] >> Both >> Edge.source->Node().id,\n",
       "   dataneeds/tests/*.nef >> Sep(',', 2) >> Cons >> Cons[2] >> Sep(',', -1) >> Each >> Sep(':', -1) >> Cons >> Cons[2] >> Edge.target->Node().id,\n",
       "   dataneeds/tests/*.nef >> Sep(',', 2) >> Cons >> Cons[2] >> Sep(',', -1) >> Each >> Sep(':', -1) >> Cons >> Cons[1] >> Edge().weight:Floating,\n",
       "   dataneeds/tests/*.nef >> Sep(',', 2) >> Cons >> Cons[0] >> Both >> Edge.source->Node().id],\n",
       "  (None, None, None, None))]"
      ]
     },
     "execution_count": 18,
     "metadata": {},
     "output_type": "execute_result"
    }
   ],
   "source": [
    "list(resolve_joins(E.returns, bindings))"
   ]
  },
  {
   "cell_type": "code",
   "execution_count": 7,
   "metadata": {
    "collapsed": false
   },
   "outputs": [
    {
     "data": {
      "text/plain": [
       "+ dataneeds/tests/*.elf >> Sep(',', -1) >> Cons >> Cons[2] >> Edge.source->Node().id\n",
       "` dataneeds/tests/*.nef >> Sep(',', 2) >> Cons >> Cons[0] >> Both >> Edge.source->Node().id"
      ]
     },
     "execution_count": 7,
     "metadata": {},
     "output_type": "execute_result"
    }
   ],
   "source": [
    "s.parent.bindings"
   ]
  },
  {
   "cell_type": "code",
   "execution_count": 8,
   "metadata": {
    "collapsed": false
   },
   "outputs": [
    {
     "data": {
      "text/plain": [
       "Edge.source->Node().id"
      ]
     },
     "execution_count": 8,
     "metadata": {},
     "output_type": "execute_result"
    }
   ],
   "source": [
    "E.source.id"
   ]
  },
  {
   "cell_type": "code",
   "execution_count": 7,
   "metadata": {
    "collapsed": false
   },
   "outputs": [
    {
     "data": {
      "text/plain": [
       "Edge.source->Node()[id,label].label"
      ]
     },
     "execution_count": 7,
     "metadata": {},
     "output_type": "execute_result"
    }
   ],
   "source": [
    "E.source.label"
   ]
  },
  {
   "cell_type": "code",
   "execution_count": 8,
   "metadata": {
    "collapsed": false
   },
   "outputs": [
    {
     "data": {
      "text/plain": [
       "Edge.source->Node()[id,label]"
      ]
     },
     "execution_count": 8,
     "metadata": {},
     "output_type": "execute_result"
    }
   ],
   "source": [
    "E.source"
   ]
  },
  {
   "cell_type": "code",
   "execution_count": 48,
   "metadata": {
    "collapsed": false
   },
   "outputs": [
    {
     "data": {
      "text/plain": [
       "{Edge(): Edge().weight: Floating,\n",
       " Edge(): Edge().weight: Floating,\n",
       " Edge(): Edge().weight: Floating,\n",
       " Edge(): Edge().weight: Floating,\n",
       " Edge(): Edge().weight: Floating,\n",
       " Edge: Edge.weight: Floating,\n",
       " Edge(): Edge().weight: Floating}"
      ]
     },
     "execution_count": 48,
     "metadata": {},
     "output_type": "execute_result"
    }
   ],
   "source": [
    "dict(E.weight.typ.__owns__)"
   ]
  },
  {
   "cell_type": "code",
   "execution_count": null,
   "metadata": {
    "collapsed": true
   },
   "outputs": [],
   "source": [
    "E = Edge()\n",
    "request(E.weight, \n",
    "        E.source.label, \n",
    "        E.target.label)"
   ]
  },
  {
   "cell_type": "code",
   "execution_count": null,
   "metadata": {
    "collapsed": true
   },
   "outputs": [],
   "source": [
    "Edge()['weight, source.label, target.label']"
   ]
  },
  {
   "cell_type": "code",
   "execution_count": null,
   "metadata": {
    "collapsed": true
   },
   "outputs": [],
   "source": [
    "with Edge.request() as E:\n",
    "    E.weight\n",
    "    E.source.labelk\n",
    "    E.target.label"
   ]
  },
  {
   "cell_type": "code",
   "execution_count": 50,
   "metadata": {
    "collapsed": false
   },
   "outputs": [
    {
     "ename": "AttributeError",
     "evalue": "__exit__",
     "output_type": "error",
     "traceback": [
      "\u001b[1;31m---------------------------------------------------------------------------\u001b[0m",
      "\u001b[1;31mAttributeError\u001b[0m                            Traceback (most recent call last)",
      "\u001b[1;32m<ipython-input-50-645edb18a45e>\u001b[0m in \u001b[0;36m<module>\u001b[1;34m()\u001b[0m\n\u001b[1;32m----> 1\u001b[1;33m \u001b[1;32mwith\u001b[0m \u001b[0mEdge\u001b[0m\u001b[1;33m(\u001b[0m\u001b[1;33m)\u001b[0m \u001b[1;32mas\u001b[0m \u001b[0mE\u001b[0m\u001b[1;33m:\u001b[0m\u001b[1;33m\u001b[0m\u001b[0m\n\u001b[0m\u001b[0;32m      2\u001b[0m     \u001b[0mE\u001b[0m\u001b[1;33m.\u001b[0m\u001b[0mweight\u001b[0m\u001b[1;33m\u001b[0m\u001b[0m\n\u001b[0;32m      3\u001b[0m     \u001b[0mE\u001b[0m\u001b[1;33m.\u001b[0m\u001b[0msource\u001b[0m\u001b[1;33m.\u001b[0m\u001b[0mlabel\u001b[0m\u001b[1;33m\u001b[0m\u001b[0m\n\u001b[0;32m      4\u001b[0m     \u001b[0mE\u001b[0m\u001b[1;33m.\u001b[0m\u001b[0mtarget\u001b[0m\u001b[1;33m.\u001b[0m\u001b[0mlabel\u001b[0m\u001b[1;33m\u001b[0m\u001b[0m\n",
      "\u001b[1;31mAttributeError\u001b[0m: __exit__"
     ]
    }
   ],
   "source": [
    "with Edge() as E:\n",
    "    E.weight\n",
    "    E.source.label\n",
    "    E.target.label"
   ]
  },
  {
   "cell_type": "code",
   "execution_count": null,
   "metadata": {
    "collapsed": true
   },
   "outputs": [],
   "source": [
    "with need.request(Edge()) as E:\n",
    "    pass"
   ]
  },
  {
   "cell_type": "code",
   "execution_count": 39,
   "metadata": {
    "collapsed": true
   },
   "outputs": [],
   "source": [
    "with need.request(Edge()) as E:\n",
    "    E.weight, E.source.label, E.target.label"
   ]
  },
  {
   "cell_type": "code",
   "execution_count": 6,
   "metadata": {
    "collapsed": false,
    "scrolled": true
   },
   "outputs": [],
   "source": [
    "items = E.items"
   ]
  },
  {
   "cell_type": "code",
   "execution_count": 7,
   "metadata": {
    "collapsed": false
   },
   "outputs": [],
   "source": [
    "from collections import defaultdict\n",
    "sources = []\n",
    "bindings = defaultdict(list)"
   ]
  },
  {
   "cell_type": "code",
   "execution_count": 8,
   "metadata": {
    "collapsed": true
   },
   "outputs": [],
   "source": [
    "for it in items:\n",
    "    for b in it.bindings:\n",
    "        sources.append(b.source)\n",
    "        bindings[b.source].append((b, it))"
   ]
  },
  {
   "cell_type": "code",
   "execution_count": 9,
   "metadata": {
    "collapsed": false
   },
   "outputs": [],
   "source": [
    "complete = []\n",
    "for src in sources:\n",
    "    bs = bindings[src]\n",
    "    if len(bs) == len(items):\n",
    "        if bs not in complete:\n",
    "            complete.append(src)"
   ]
  },
  {
   "cell_type": "code",
   "execution_count": 26,
   "metadata": {
    "collapsed": false
   },
   "outputs": [],
   "source": [
    "from dataneeds.request import RelationItem\n",
    "joins = []\n",
    "for src in complete:\n",
    "    for b, it in bindings[src]:\n",
    "        if isinstance(it, RelationItem):\n",
    "            join = [i.item.attr for i in it.items] + [b.binds.attr]\n",
    "            break\n",
    "    break"
   ]
  },
  {
   "cell_type": "code",
   "execution_count": 27,
   "metadata": {
    "collapsed": false
   },
   "outputs": [
    {
     "data": {
      "text/plain": [
       "[Node().label: String, Node().id: Integer]"
      ]
     },
     "execution_count": 27,
     "metadata": {},
     "output_type": "execute_result"
    }
   ],
   "source": [
    "join"
   ]
  },
  {
   "cell_type": "code",
   "execution_count": 188,
   "metadata": {
    "collapsed": false
   },
   "outputs": [],
   "source": [
    "join"
   ]
  },
  {
   "cell_type": "code",
   "execution_count": 154,
   "metadata": {
    "collapsed": false
   },
   "outputs": [
    {
     "data": {
      "text/plain": [
       "Node().id: Integer"
      ]
     },
     "execution_count": 154,
     "metadata": {},
     "output_type": "execute_result"
    }
   ],
   "source": [
    "b.binds.attr"
   ]
  },
  {
   "cell_type": "code",
   "execution_count": 149,
   "metadata": {
    "collapsed": false
   },
   "outputs": [
    {
     "data": {
      "text/plain": [
       "(dataneeds/tests/*.nef >> Sep(',', 2) >> Cons >> Cons[2] >> Sep(',', -1) >> Each >> Sep(':', -1) >> Cons >> Cons[1] >> Edge().weight:Floating,\n",
       " dataneeds/tests/*.nef >> Sep(',', 2) >> Cons >> Cons[0] >> Both >> Edge.source->Node().id,\n",
       " dataneeds/tests/*.nef >> Sep(',', 2) >> Cons >> Cons[2] >> Sep(',', -1) >> Each >> Sep(':', -1) >> Cons >> Cons[2] >> Edge.target->Node().id)"
      ]
     },
     "execution_count": 149,
     "metadata": {},
     "output_type": "execute_result"
    }
   ],
   "source": [
    "bindings[src]"
   ]
  },
  {
   "cell_type": "code",
   "execution_count": 115,
   "metadata": {
    "collapsed": false
   },
   "outputs": [
    {
     "data": {
      "text/plain": [
       "dataneeds/tests/*.nef >> Sep(',', 2) >> Cons >> Cons[2] >> Sep(',', -1) >> Each >> Sep(':', -1) >> Cons >> Cons[1] >> Edge().weight:Floating"
      ]
     },
     "execution_count": 115,
     "metadata": {},
     "output_type": "execute_result"
    }
   ],
   "source": [
    "b"
   ]
  },
  {
   "cell_type": "code",
   "execution_count": 75,
   "metadata": {
    "collapsed": true
   },
   "outputs": [],
   "source": [
    "it = E.items[-1]"
   ]
  },
  {
   "cell_type": "code",
   "execution_count": 84,
   "metadata": {
    "collapsed": false
   },
   "outputs": [
    {
     "data": {
      "text/plain": [
       "+ dataneeds/tests/*.elf >> Sep(',', -1) >> Cons >> Cons[3] >> Edge.target->Node().id\n",
       "` dataneeds/tests/*.nef >> Sep(',', 2) >> Cons >> Cons[2] >> Sep(',', -1) >> Each >> Sep(':', -1) >> Cons >> Cons[2] >> Edge.target->Node().id"
      ]
     },
     "execution_count": 84,
     "metadata": {},
     "output_type": "execute_result"
    }
   ],
   "source": [
    "it.bindings"
   ]
  },
  {
   "cell_type": "code",
   "execution_count": 91,
   "metadata": {
    "collapsed": false
   },
   "outputs": [
    {
     "data": {
      "text/plain": [
       "Node().id: Integer"
      ]
     },
     "execution_count": 91,
     "metadata": {},
     "output_type": "execute_result"
    }
   ],
   "source": [
    "it.bindings[0].binds.attr"
   ]
  },
  {
   "cell_type": "code",
   "execution_count": 86,
   "metadata": {
    "collapsed": false
   },
   "outputs": [
    {
     "data": {
      "text/plain": [
       "Edge.target->Node()"
      ]
     },
     "execution_count": 86,
     "metadata": {},
     "output_type": "execute_result"
    }
   ],
   "source": [
    "it.bindings[0].binds.instance"
   ]
  },
  {
   "cell_type": "code",
   "execution_count": 87,
   "metadata": {
    "collapsed": false
   },
   "outputs": [
    {
     "data": {
      "text/plain": [
       "Node().id: Integer"
      ]
     },
     "execution_count": 87,
     "metadata": {},
     "output_type": "execute_result"
    }
   ],
   "source": [
    "it.bindings[0].binds.attr"
   ]
  },
  {
   "cell_type": "code",
   "execution_count": 79,
   "metadata": {
    "collapsed": false
   },
   "outputs": [
    {
     "data": {
      "text/plain": [
       "+ dataneeds/tests/*.nlf >> Sep(',', 2) >> Cons >> Cons[1] >> Node().label:String\n",
       "` dataneeds/tests/*.nef >> Sep(',', 2) >> Cons >> Cons[1] >> Node().label:String"
      ]
     },
     "execution_count": 79,
     "metadata": {},
     "output_type": "execute_result"
    }
   ],
   "source": [
    "it.items[0].item.attr.bindings"
   ]
  },
  {
   "cell_type": "code",
   "execution_count": 97,
   "metadata": {
    "collapsed": false
   },
   "outputs": [
    {
     "data": {
      "text/plain": [
       "+ dataneeds/tests/*.elf >> Sep(',', -1) >> Cons >> Cons[3] >> Edge.target->Node().id\n",
       "` dataneeds/tests/*.nef >> Sep(',', 2) >> Cons >> Cons[2] >> Sep(',', -1) >> Each >> Sep(':', -1) >> Cons >> Cons[2] >> Edge.target->Node().id"
      ]
     },
     "execution_count": 97,
     "metadata": {},
     "output_type": "execute_result"
    }
   ],
   "source": [
    "it.bindings"
   ]
  },
  {
   "cell_type": "code",
   "execution_count": 93,
   "metadata": {
    "collapsed": false
   },
   "outputs": [
    {
     "data": {
      "text/plain": [
       "Node().id: Integer"
      ]
     },
     "execution_count": 93,
     "metadata": {},
     "output_type": "execute_result"
    }
   ],
   "source": [
    "it.bindings[0].binds.attr"
   ]
  },
  {
   "cell_type": "code",
   "execution_count": 92,
   "metadata": {
    "collapsed": false
   },
   "outputs": [
    {
     "data": {
      "text/plain": [
       "[Edge.target->Node().label]"
      ]
     },
     "execution_count": 92,
     "metadata": {},
     "output_type": "execute_result"
    }
   ],
   "source": [
    "it.items"
   ]
  },
  {
   "cell_type": "code",
   "execution_count": 7,
   "metadata": {
    "collapsed": false
   },
   "outputs": [
    {
     "data": {
      "text/plain": [
       "[+ dataneeds/tests/*.elf >> Sep(',', -1) >> Cons >> Cons[1] >> Edge().weight:Floating\n",
       " ` dataneeds/tests/*.nef >> Sep(',', 2) >> Cons >> Cons[2] >> Sep(',', -1) >> Each >> Sep(':', -1) >> Cons >> Cons[1] >> Edge().weight:Floating,\n",
       " + dataneeds/tests/*.elf >> Sep(',', -1) >> Cons >> Cons[2] >> Edge.source->Node().id\n",
       " ` dataneeds/tests/*.nef >> Sep(',', 2) >> Cons >> Cons[0] >> Both >> Edge.source->Node().id,\n",
       " + dataneeds/tests/*.elf >> Sep(',', -1) >> Cons >> Cons[3] >> Edge.target->Node().id\n",
       " ` dataneeds/tests/*.nef >> Sep(',', 2) >> Cons >> Cons[2] >> Sep(',', -1) >> Each >> Sep(':', -1) >> Cons >> Cons[2] >> Edge.target->Node().id]"
      ]
     },
     "execution_count": 7,
     "metadata": {},
     "output_type": "execute_result"
    }
   ],
   "source": [
    "[it.bindings for it in E.items]"
   ]
  },
  {
   "cell_type": "code",
   "execution_count": 4,
   "metadata": {
    "collapsed": true
   },
   "outputs": [],
   "source": [
    "with need.request(Node()) as N:\n",
    "    N.label, N.edges.weight, N.edges.target.label"
   ]
  },
  {
   "cell_type": "code",
   "execution_count": 5,
   "metadata": {
    "collapsed": false
   },
   "outputs": [],
   "source": [
    "l, w, t = N.items"
   ]
  },
  {
   "cell_type": "code",
   "execution_count": 36,
   "metadata": {
    "collapsed": false
   },
   "outputs": [
    {
     "data": {
      "text/plain": [
       "* dataneeds/tests/*.nlf >> Sep(',', 2) >> Cons >> Cons[1] >> Node().label:String\n",
       "* dataneeds/tests/*.nef >> Sep(',', 2) >> Cons >> Cons[1] >> Both >> Node().label:String"
      ]
     },
     "execution_count": 36,
     "metadata": {},
     "output_type": "execute_result"
    }
   ],
   "source": [
    "t.resolving.attr.attr.bindings"
   ]
  },
  {
   "cell_type": "code",
   "execution_count": 21,
   "metadata": {
    "collapsed": false
   },
   "outputs": [
    {
     "data": {
      "text/plain": [
       "* dataneeds/tests/*.nlf >> Sep(',', 2) >> Cons >> Cons[1] >> Node().label:String\n",
       "* dataneeds/tests/*.nef >> Sep(',', 2) >> Cons >> Cons[1] >> Both >> Node().label:String"
      ]
     },
     "execution_count": 21,
     "metadata": {},
     "output_type": "execute_result"
    }
   ],
   "source": [
    "Node.edges.target.label.attr.attr.bindings"
   ]
  },
  {
   "cell_type": "code",
   "execution_count": 22,
   "metadata": {
    "collapsed": false
   },
   "outputs": [
    {
     "data": {
      "text/plain": [
       "* dataneeds/tests/*.nlf >> Sep(',', 2) >> Cons >> Cons[1] >> Node().label:String\n",
       "* dataneeds/tests/*.nef >> Sep(',', 2) >> Cons >> Cons[1] >> Both >> Node().label:String"
      ]
     },
     "execution_count": 22,
     "metadata": {},
     "output_type": "execute_result"
    }
   ],
   "source": [
    "l.resolving.bindings"
   ]
  },
  {
   "cell_type": "code",
   "execution_count": 23,
   "metadata": {
    "collapsed": false
   },
   "outputs": [
    {
     "data": {
      "text/plain": [
       "* dataneeds/tests/*.nef >> Sep(',', 2) >> Cons >> Cons[2] >> Sep(',', -1) >> Each >> Sep(':', -1) >> Cons >> Cons[1] >> Both >> Node.edges->Edge().weight"
      ]
     },
     "execution_count": 23,
     "metadata": {},
     "output_type": "execute_result"
    }
   ],
   "source": [
    "w.resolving.bindings"
   ]
  },
  {
   "cell_type": "code",
   "execution_count": 9,
   "metadata": {
    "collapsed": false
   },
   "outputs": [
    {
     "data": {
      "text/plain": [
       "True"
      ]
     },
     "execution_count": 9,
     "metadata": {},
     "output_type": "execute_result"
    }
   ],
   "source": [
    "t.resolving.bindings is t.item.item.ref.bindings"
   ]
  },
  {
   "cell_type": "code",
   "execution_count": 26,
   "metadata": {
    "collapsed": false
   },
   "outputs": [
    {
     "data": {
      "text/plain": [
       "Edge.target->Node()"
      ]
     },
     "execution_count": 26,
     "metadata": {},
     "output_type": "execute_result"
    }
   ],
   "source": [
    "t.item.item.ref.attr.owner"
   ]
  },
  {
   "cell_type": "code",
   "execution_count": 27,
   "metadata": {
    "collapsed": false
   },
   "outputs": [
    {
     "data": {
      "text/plain": [
       "False"
      ]
     },
     "execution_count": 27,
     "metadata": {},
     "output_type": "execute_result"
    }
   ],
   "source": [
    "t.resolving.instance is t.resolving.owner "
   ]
  },
  {
   "cell_type": "code",
   "execution_count": 4,
   "metadata": {
    "collapsed": false
   },
   "outputs": [
    {
     "data": {
      "text/plain": [
       "Node.edges->Edge().target->Edge.target->Node().label"
      ]
     },
     "execution_count": 4,
     "metadata": {},
     "output_type": "execute_result"
    }
   ],
   "source": [
    "Node.edges.target.label"
   ]
  },
  {
   "cell_type": "code",
   "execution_count": 4,
   "metadata": {
    "collapsed": false
   },
   "outputs": [
    {
     "data": {
      "text/plain": [
       "[(dataneeds/tests/*.nlf >> Sep(',', 2) >> Cons >> Cons[0] >> Node().id:Integer,\n",
       "  dataneeds/tests/*.nlf >> Sep(',', 2) >> Cons >> Cons[1] >> Node().label:String),\n",
       " (dataneeds/tests/*.nef >> Sep(',', 2) >> Cons >> Cons[0] >> Both >> Node().id:Integer,\n",
       "  dataneeds/tests/*.nef >> Sep(',', 2) >> Cons >> Cons[1] >> Both >> Node().label:String)]"
      ]
     },
     "execution_count": 4,
     "metadata": {},
     "output_type": "execute_result"
    }
   ],
   "source": [
    "with need.request(Node()) as N:\n",
    "    N.id, N.label#, N.edges.id\n",
    "rs = N.resolve()\n",
    "rs"
   ]
  },
  {
   "cell_type": "code",
   "execution_count": 5,
   "metadata": {
    "collapsed": false
   },
   "outputs": [
    {
     "data": {
      "text/plain": [
       "(dataneeds/tests/*.nlf >> Sep(',', 2) >> Cons >> Cons[0] >> Node().id:Integer,\n",
       " dataneeds/tests/*.nlf >> Sep(',', 2) >> Cons >> Cons[1] >> Node().label:String)"
      ]
     },
     "execution_count": 5,
     "metadata": {},
     "output_type": "execute_result"
    }
   ],
   "source": [
    "a,b = rs\n",
    "a"
   ]
  },
  {
   "cell_type": "code",
   "execution_count": 6,
   "metadata": {
    "collapsed": false
   },
   "outputs": [
    {
     "data": {
      "text/plain": [
       "Cons(Node().id:Integer, Node().label:String, Sep(',', -1)>>Each)[0]"
      ]
     },
     "execution_count": 6,
     "metadata": {},
     "output_type": "execute_result"
    }
   ],
   "source": [
    "a[0].input"
   ]
  },
  {
   "cell_type": "code",
   "execution_count": 7,
   "metadata": {
    "collapsed": false
   },
   "outputs": [
    {
     "data": {
      "text/plain": [
       "{'files': {'sep': {'cons': {'Node.id': {}, 'Node.label': {}}}}}"
      ]
     },
     "execution_count": 7,
     "metadata": {},
     "output_type": "execute_result"
    }
   ],
   "source": [
    "{'files': {'sep': {'cons': {'Node.label': {}, 'Node.id': {}}}}}"
   ]
  },
  {
   "cell_type": "code",
   "execution_count": 8,
   "metadata": {
    "collapsed": false
   },
   "outputs": [],
   "source": [
    "with need.request(Edge()) as E:\n",
    "    E.source.label, E.weight, E.target.id\n",
    "rs = E.resolve()\n",
    "a, = rs"
   ]
  },
  {
   "cell_type": "code",
   "execution_count": 9,
   "metadata": {
    "collapsed": false
   },
   "outputs": [
    {
     "data": {
      "text/plain": [
       "(dataneeds/tests/*.nef >> Sep(',', 2) >> Cons >> Cons[1] >> Both >> Edge.source->Node().label,\n",
       " dataneeds/tests/*.nef >> Sep(',', 2) >> Cons >> Cons[2] >> Sep(',', -1) >> Each >> Sep(':', -1) >> Cons >> Cons[1] >> Edge().weight:Floating,\n",
       " dataneeds/tests/*.nef >> Sep(',', 2) >> Cons >> Cons[2] >> Sep(',', -1) >> Each >> Sep(':', -1) >> Cons >> Cons[2] >> Edge.target->Node().id)"
      ]
     },
     "execution_count": 9,
     "metadata": {},
     "output_type": "execute_result"
    }
   ],
   "source": [
    "a"
   ]
  },
  {
   "cell_type": "code",
   "execution_count": 10,
   "metadata": {
    "collapsed": false
   },
   "outputs": [
    {
     "name": "stdout",
     "output_type": "stream",
     "text": [
      "[<dask.bag.core.Bag object at 0x7fba71921128>]\n"
     ]
    },
    {
     "data": {
      "text/plain": [
       "[('A', 0.3, 1), ('A', 0.2, 2), ('B', 0.2, 0), ('B', 1.0, 1), ('B', 0.4, 2)]"
      ]
     },
     "execution_count": 10,
     "metadata": {},
     "output_type": "execute_result"
    }
   ],
   "source": [
    "e = DaskBagEngine()\n",
    "e.resolve(a).compute()"
   ]
  },
  {
   "cell_type": "code",
   "execution_count": 38,
   "metadata": {
    "collapsed": false
   },
   "outputs": [
    {
     "data": {
      "text/plain": [
       "[1, 2, 0, 1, 2]"
      ]
     },
     "execution_count": 38,
     "metadata": {},
     "output_type": "execute_result"
    }
   ],
   "source": [
    "e.items[1].compute()"
   ]
  },
  {
   "cell_type": "code",
   "execution_count": 15,
   "metadata": {
    "collapsed": false,
    "scrolled": false
   },
   "outputs": [
    {
     "name": "stdout",
     "output_type": "stream",
     "text": [
      "[<dask.bag.core.Bag object at 0x7fde1c6810b8>]\n"
     ]
    },
    {
     "data": {
      "text/plain": [
       "<dask.bag.core.Bag at 0x7fde1c677ef0>"
      ]
     },
     "execution_count": 15,
     "metadata": {},
     "output_type": "execute_result"
    }
   ],
   "source": [
    "bag = DaskBagEngine().resolve(a)\n",
    "bag"
   ]
  },
  {
   "cell_type": "code",
   "execution_count": 16,
   "metadata": {
    "collapsed": true
   },
   "outputs": [],
   "source": [
    "from dask.async import get_sync"
   ]
  },
  {
   "cell_type": "code",
   "execution_count": 17,
   "metadata": {
    "collapsed": false
   },
   "outputs": [
    {
     "data": {
      "text/plain": [
       "[('A', 1), ('A', 2), ('B', 0), ('B', 1), ('B', 2)]"
      ]
     },
     "execution_count": 17,
     "metadata": {},
     "output_type": "execute_result"
    }
   ],
   "source": [
    "bag.compute(get=get_sync)"
   ]
  },
  {
   "cell_type": "markdown",
   "metadata": {},
   "source": [
    "```\n",
    "\\. tests/*.nef\n",
    "   >> Sep(',')\n",
    "      >> Cons\n",
    "         >> Node.label\n",
    "         >> Each\n",
    "            >> Sep('.')\n",
    "               >> Cons\n",
    "                  >> Edge.id\n",
    "                  >> Edge.weight \n",
    "|> from_files\n",
    "   |> map(str.sep, sep=',')\n",
    "      |> l= pluck(1)                \n",
    "      |> pluck(2)\n",
    "                         # explode\n",
    "                         db.zip(l, _.map(len)).map(lambda x: [x[0]]*x[1]) => shape it\n",
    "         |>                         .concat()\n",
    "            |> map(str.sep, sep='.')\n",
    "               |>                            .pluck(1)\n",
    "               |>                            .pluck(3)\n",
    "```"
   ]
  },
  {
   "cell_type": "code",
   "execution_count": 18,
   "metadata": {
    "collapsed": false
   },
   "outputs": [],
   "source": [
    "import dask.bag as db"
   ]
  },
  {
   "cell_type": "code",
   "execution_count": 19,
   "metadata": {
    "collapsed": false
   },
   "outputs": [],
   "source": [
    "files = db.from_filenames('dataneeds/tests/*.nef').map(str.strip)\n",
    "sep = files.map(lambda x: x.split(',', 2))\n",
    "\n",
    "labels = sep.pluck(1)\n",
    "\n",
    "rest = sep.pluck(2)\n",
    "lst = rest.map(lambda x: x.split(',') if x else [])\n",
    "weights = lst.concat().map(lambda ls: ls.split(':')).pluck(1)\n",
    "weights.compute()\n",
    "\n",
    "explode = db.zip(lst.map(len), labels).map(lambda a,b: a * [b]).concat()\n",
    "rq = db.zip(explode, weights)"
   ]
  },
  {
   "cell_type": "code",
   "execution_count": 100,
   "metadata": {
    "collapsed": false
   },
   "outputs": [
    {
     "data": {
      "text/plain": [
       "[('A', '.3'), ('A', '.2'), ('B', '.2'), ('B', '1.'), ('B', '.4')]"
      ]
     },
     "execution_count": 100,
     "metadata": {},
     "output_type": "execute_result"
    }
   ],
   "source": [
    "rq.compute()"
   ]
  },
  {
   "cell_type": "code",
   "execution_count": 101,
   "metadata": {
    "collapsed": false
   },
   "outputs": [
    {
     "data": {
      "text/plain": [
       "[['0:.3:1', '1:.2:2'], ['2:.2:0', '3:1.:1', '4:.4:2'], []]"
      ]
     },
     "execution_count": 101,
     "metadata": {},
     "output_type": "execute_result"
    }
   ],
   "source": [
    "lst.compute()"
   ]
  },
  {
   "cell_type": "code",
   "execution_count": null,
   "metadata": {
    "collapsed": true
   },
   "outputs": [],
   "source": []
  }
 ],
 "metadata": {
  "kernelspec": {
   "display_name": "Python 3",
   "language": "python",
   "name": "python3"
  },
  "language_info": {
   "codemirror_mode": {
    "name": "ipython",
    "version": 3
   },
   "file_extension": ".py",
   "mimetype": "text/x-python",
   "name": "python",
   "nbconvert_exporter": "python",
   "pygments_lexer": "ipython3",
   "version": "3.4.4"
  }
 },
 "nbformat": 4,
 "nbformat_minor": 0
}
