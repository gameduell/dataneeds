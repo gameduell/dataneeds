{
 "cells": [
  {
   "cell_type": "code",
   "execution_count": 1,
   "metadata": {
    "collapsed": false
   },
   "outputs": [],
   "source": [
    "%load_ext autoreload\n",
    "%autoreload 2"
   ]
  },
  {
   "cell_type": "code",
   "execution_count": 2,
   "metadata": {
    "collapsed": false
   },
   "outputs": [],
   "source": [
    "import dataneeds as need\n",
    "from dataneeds.engine.dask_bag import DaskBagEngine"
   ]
  },
  {
   "cell_type": "code",
   "execution_count": 3,
   "metadata": {
    "collapsed": false
   },
   "outputs": [],
   "source": [
    "%run dataneeds/tests/graph.py"
   ]
  },
  {
   "cell_type": "code",
   "execution_count": 4,
   "metadata": {
    "collapsed": false
   },
   "outputs": [
    {
     "data": {
      "text/plain": [
       "[(dataneeds/tests/*.nlf >> Sep(',', 2) >> Cons >> Cons[0] >> Node().id:Integer,\n",
       "  dataneeds/tests/*.nlf >> Sep(',', 2) >> Cons >> Cons[1] >> Node().label:String),\n",
       " (dataneeds/tests/*.nef >> Sep(',', 2) >> Cons >> Cons[0] >> Both >> Node().id:Integer,\n",
       "  dataneeds/tests/*.nef >> Sep(',', 2) >> Cons >> Cons[1] >> Both >> Node().label:String)]"
      ]
     },
     "execution_count": 4,
     "metadata": {},
     "output_type": "execute_result"
    }
   ],
   "source": [
    "with need.request(Node()) as N:\n",
    "    N.id, N.label#, N.edges.id\n",
    "rs = N.resolve()\n",
    "rs"
   ]
  },
  {
   "cell_type": "code",
   "execution_count": 5,
   "metadata": {
    "collapsed": false
   },
   "outputs": [
    {
     "data": {
      "text/plain": [
       "(dataneeds/tests/*.nlf >> Sep(',', 2) >> Cons >> Cons[0] >> Node().id:Integer,\n",
       " dataneeds/tests/*.nlf >> Sep(',', 2) >> Cons >> Cons[1] >> Node().label:String)"
      ]
     },
     "execution_count": 5,
     "metadata": {},
     "output_type": "execute_result"
    }
   ],
   "source": [
    "a,b = rs\n",
    "a"
   ]
  },
  {
   "cell_type": "code",
   "execution_count": 6,
   "metadata": {
    "collapsed": false
   },
   "outputs": [
    {
     "data": {
      "text/plain": [
       "Cons(Node().id:Integer, Node().label:String, Sep(',', -1)>>Each)[0]"
      ]
     },
     "execution_count": 6,
     "metadata": {},
     "output_type": "execute_result"
    }
   ],
   "source": [
    "a[0].input"
   ]
  },
  {
   "cell_type": "code",
   "execution_count": 7,
   "metadata": {
    "collapsed": false
   },
   "outputs": [
    {
     "data": {
      "text/plain": [
       "{'files': {'sep': {'cons': {'Node.id': {}, 'Node.label': {}}}}}"
      ]
     },
     "execution_count": 7,
     "metadata": {},
     "output_type": "execute_result"
    }
   ],
   "source": [
    "{'files': {'sep': {'cons': {'Node.label': {}, 'Node.id': {}}}}}"
   ]
  },
  {
   "cell_type": "code",
   "execution_count": 8,
   "metadata": {
    "collapsed": false
   },
   "outputs": [],
   "source": [
    "with need.request(Edge()) as E:\n",
    "    E.source.label, E.weight, E.target.id\n",
    "rs = E.resolve()\n",
    "a, = rs"
   ]
  },
  {
   "cell_type": "code",
   "execution_count": 9,
   "metadata": {
    "collapsed": false
   },
   "outputs": [
    {
     "data": {
      "text/plain": [
       "(dataneeds/tests/*.nef >> Sep(',', 2) >> Cons >> Cons[1] >> Both >> Edge.source->Node().label,\n",
       " dataneeds/tests/*.nef >> Sep(',', 2) >> Cons >> Cons[2] >> Sep(',', -1) >> Each >> Sep(':', -1) >> Cons >> Cons[1] >> Edge().weight:Floating,\n",
       " dataneeds/tests/*.nef >> Sep(',', 2) >> Cons >> Cons[2] >> Sep(',', -1) >> Each >> Sep(':', -1) >> Cons >> Cons[2] >> Edge.target->Node().id)"
      ]
     },
     "execution_count": 9,
     "metadata": {},
     "output_type": "execute_result"
    }
   ],
   "source": [
    "a"
   ]
  },
  {
   "cell_type": "code",
   "execution_count": 10,
   "metadata": {
    "collapsed": false
   },
   "outputs": [
    {
     "name": "stdout",
     "output_type": "stream",
     "text": [
      "[<dask.bag.core.Bag object at 0x7fba71921128>]\n"
     ]
    },
    {
     "data": {
      "text/plain": [
       "[('A', 0.3, 1), ('A', 0.2, 2), ('B', 0.2, 0), ('B', 1.0, 1), ('B', 0.4, 2)]"
      ]
     },
     "execution_count": 10,
     "metadata": {},
     "output_type": "execute_result"
    }
   ],
   "source": [
    "e = DaskBagEngine()\n",
    "e.resolve(a).compute()"
   ]
  },
  {
   "cell_type": "code",
   "execution_count": 38,
   "metadata": {
    "collapsed": false
   },
   "outputs": [
    {
     "data": {
      "text/plain": [
       "[1, 2, 0, 1, 2]"
      ]
     },
     "execution_count": 38,
     "metadata": {},
     "output_type": "execute_result"
    }
   ],
   "source": [
    "e.items[1].compute()"
   ]
  },
  {
   "cell_type": "code",
   "execution_count": 15,
   "metadata": {
    "collapsed": false,
    "scrolled": false
   },
   "outputs": [
    {
     "name": "stdout",
     "output_type": "stream",
     "text": [
      "[<dask.bag.core.Bag object at 0x7fde1c6810b8>]\n"
     ]
    },
    {
     "data": {
      "text/plain": [
       "<dask.bag.core.Bag at 0x7fde1c677ef0>"
      ]
     },
     "execution_count": 15,
     "metadata": {},
     "output_type": "execute_result"
    }
   ],
   "source": [
    "bag = DaskBagEngine().resolve(a)\n",
    "bag"
   ]
  },
  {
   "cell_type": "code",
   "execution_count": 16,
   "metadata": {
    "collapsed": true
   },
   "outputs": [],
   "source": [
    "from dask.async import get_sync"
   ]
  },
  {
   "cell_type": "code",
   "execution_count": 17,
   "metadata": {
    "collapsed": false
   },
   "outputs": [
    {
     "data": {
      "text/plain": [
       "[('A', 1), ('A', 2), ('B', 0), ('B', 1), ('B', 2)]"
      ]
     },
     "execution_count": 17,
     "metadata": {},
     "output_type": "execute_result"
    }
   ],
   "source": [
    "bag.compute(get=get_sync)"
   ]
  },
  {
   "cell_type": "markdown",
   "metadata": {},
   "source": [
    "```\n",
    "\\. tests/*.nef\n",
    "   >> Sep(',')\n",
    "      >> Cons\n",
    "         >> Node.label\n",
    "         >> Each\n",
    "            >> Sep('.')\n",
    "               >> Cons\n",
    "                  >> Edge.id\n",
    "                  >> Edge.weight \n",
    "|> from_files\n",
    "   |> map(str.sep, sep=',')\n",
    "      |> l= pluck(1)                \n",
    "      |> pluck(2)\n",
    "                         # explode\n",
    "                         db.zip(l, _.map(len)).map(lambda x: [x[0]]*x[1]) => shape it\n",
    "         |>                         .concat()\n",
    "            |> map(str.sep, sep='.')\n",
    "               |>                            .pluck(1)\n",
    "               |>                            .pluck(3)\n",
    "```"
   ]
  },
  {
   "cell_type": "code",
   "execution_count": 18,
   "metadata": {
    "collapsed": false
   },
   "outputs": [],
   "source": [
    "import dask.bag as db"
   ]
  },
  {
   "cell_type": "code",
   "execution_count": 19,
   "metadata": {
    "collapsed": false
   },
   "outputs": [],
   "source": [
    "files = db.from_filenames('dataneeds/tests/*.nef').map(str.strip)\n",
    "sep = files.map(lambda x: x.split(',', 2))\n",
    "\n",
    "labels = sep.pluck(1)\n",
    "\n",
    "rest = sep.pluck(2)\n",
    "lst = rest.map(lambda x: x.split(',') if x else [])\n",
    "weights = lst.concat().map(lambda ls: ls.split(':')).pluck(1)\n",
    "weights.compute()\n",
    "\n",
    "explode = db.zip(lst.map(len), labels).map(lambda a,b: a * [b]).concat()\n",
    "rq = db.zip(explode, weights)"
   ]
  },
  {
   "cell_type": "code",
   "execution_count": 100,
   "metadata": {
    "collapsed": false
   },
   "outputs": [
    {
     "data": {
      "text/plain": [
       "[('A', '.3'), ('A', '.2'), ('B', '.2'), ('B', '1.'), ('B', '.4')]"
      ]
     },
     "execution_count": 100,
     "metadata": {},
     "output_type": "execute_result"
    }
   ],
   "source": [
    "rq.compute()"
   ]
  },
  {
   "cell_type": "code",
   "execution_count": 101,
   "metadata": {
    "collapsed": false
   },
   "outputs": [
    {
     "data": {
      "text/plain": [
       "[['0:.3:1', '1:.2:2'], ['2:.2:0', '3:1.:1', '4:.4:2'], []]"
      ]
     },
     "execution_count": 101,
     "metadata": {},
     "output_type": "execute_result"
    }
   ],
   "source": [
    "lst.compute()"
   ]
  },
  {
   "cell_type": "code",
   "execution_count": null,
   "metadata": {
    "collapsed": true
   },
   "outputs": [],
   "source": []
  }
 ],
 "metadata": {
  "kernelspec": {
   "display_name": "Python 3",
   "language": "python",
   "name": "python3"
  },
  "language_info": {
   "codemirror_mode": {
    "name": "ipython",
    "version": 3
   },
   "file_extension": ".py",
   "mimetype": "text/x-python",
   "name": "python",
   "nbconvert_exporter": "python",
   "pygments_lexer": "ipython3",
   "version": "3.4.4"
  }
 },
 "nbformat": 4,
 "nbformat_minor": 0
}
