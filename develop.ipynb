{
 "cells": [
  {
   "cell_type": "code",
   "execution_count": 1,
   "metadata": {
    "collapsed": false
   },
   "outputs": [],
   "source": [
    "%load_ext autoreload\n",
    "%autoreload 2"
   ]
  },
  {
   "cell_type": "code",
   "execution_count": 2,
   "metadata": {
    "collapsed": false
   },
   "outputs": [],
   "source": [
    "import dataneeds as need\n",
    "from dataneeds.engine.dask_bag import DaskBagEngine"
   ]
  },
  {
   "cell_type": "code",
   "execution_count": 3,
   "metadata": {
    "collapsed": false
   },
   "outputs": [],
   "source": [
    "%run dataneeds/tests/graph.py"
   ]
  },
  {
   "cell_type": "code",
   "execution_count": 4,
   "metadata": {
    "collapsed": false
   },
   "outputs": [
    {
     "data": {
      "text/plain": [
       "[Edge().id: Integer,\n",
       " Edge.source->Node().id,\n",
       " Edge.source->Node().label,\n",
       " Edge.target->Node().id,\n",
       " Edge.target->Node().label,\n",
       " Edge().weight: Floating]"
      ]
     },
     "execution_count": 4,
     "metadata": {},
     "output_type": "execute_result"
    }
   ],
   "source": [
    "with need.request(Edge()) as E:\n",
    "    E.id,\n",
    "    E.source.id, E.source.label\n",
    "    E.target.id, E.target.label\n",
    "    E.weight\n",
    "E.items"
   ]
  },
  {
   "cell_type": "code",
   "execution_count": 15,
   "metadata": {
    "collapsed": false
   },
   "outputs": [
    {
     "data": {
      "text/plain": [
       "[(Files(dataneeds/tests/*.elf),\n",
       "  Files(dataneeds/tests/*.nlf),\n",
       "  Files(dataneeds/tests/*.nlf)),\n",
       " (Files(dataneeds/tests/*.elf),\n",
       "  Files(dataneeds/tests/*.nlf),\n",
       "  Files(dataneeds/tests/*.nef)),\n",
       " (Files(dataneeds/tests/*.elf),\n",
       "  Files(dataneeds/tests/*.nef),\n",
       "  Files(dataneeds/tests/*.nlf)),\n",
       " (Files(dataneeds/tests/*.elf),\n",
       "  Files(dataneeds/tests/*.nef),\n",
       "  Files(dataneeds/tests/*.nef)),\n",
       " (Files(dataneeds/tests/*.nef),\n",
       "  Files(dataneeds/tests/*.nlf),\n",
       "  Files(dataneeds/tests/*.nlf)),\n",
       " (Files(dataneeds/tests/*.nef),\n",
       "  Files(dataneeds/tests/*.nlf),\n",
       "  Files(dataneeds/tests/*.nef)),\n",
       " (Files(dataneeds/tests/*.nef),\n",
       "  Files(dataneeds/tests/*.nef),\n",
       "  Files(dataneeds/tests/*.nlf)),\n",
       " (Files(dataneeds/tests/*.nef),\n",
       "  Files(dataneeds/tests/*.nef),\n",
       "  Files(dataneeds/tests/*.nef))]"
      ]
     },
     "execution_count": 15,
     "metadata": {},
     "output_type": "execute_result"
    }
   ],
   "source": [
    "list(E.resolve_combined().keys())"
   ]
  },
  {
   "cell_type": "code",
   "execution_count": 5,
   "metadata": {
    "collapsed": false
   },
   "outputs": [],
   "source": [
    "(rs, js), *_ = E.resolve_combined().values()"
   ]
  },
  {
   "cell_type": "code",
   "execution_count": 6,
   "metadata": {
    "collapsed": false
   },
   "outputs": [
    {
     "data": {
      "text/plain": [
       "[dataneeds/tests/*.elf >> Sep(',', -1) >> Cons >> Cons[0] >> Edge().id:Integer,\n",
       " dataneeds/tests/*.elf >> Sep(',', -1) >> Cons >> Cons[2] >> Edge.source->Node().id,\n",
       " dataneeds/tests/*.elf >> Sep(',', -1) >> Cons >> Cons[3] >> Edge.target->Node().id,\n",
       " dataneeds/tests/*.elf >> Sep(',', -1) >> Cons >> Cons[1] >> Edge().weight:Floating]"
      ]
     },
     "execution_count": 6,
     "metadata": {},
     "output_type": "execute_result"
    }
   ],
   "source": [
    "rs"
   ]
  },
  {
   "cell_type": "code",
   "execution_count": 7,
   "metadata": {
    "collapsed": false
   },
   "outputs": [
    {
     "data": {
      "text/plain": [
       "OrderedDict([(dataneeds/tests/*.elf >> Sep(',', -1) >> Cons >> Cons[2] >> Edge.source->Node().id,\n",
       "              ([Edge.source->Node().label],\n",
       "               [dataneeds/tests/*.nlf >> Sep(',', 2) >> Cons >> Cons[0] >> Node().id:Integer,\n",
       "                dataneeds/tests/*.nlf >> Sep(',', 2) >> Cons >> Cons[1] >> Node().label:String])),\n",
       "             (dataneeds/tests/*.elf >> Sep(',', -1) >> Cons >> Cons[3] >> Edge.target->Node().id,\n",
       "              ([Edge.target->Node().label],\n",
       "               [dataneeds/tests/*.nlf >> Sep(',', 2) >> Cons >> Cons[0] >> Node().id:Integer,\n",
       "                dataneeds/tests/*.nlf >> Sep(',', 2) >> Cons >> Cons[1] >> Node().label:String]))])"
      ]
     },
     "execution_count": 7,
     "metadata": {},
     "output_type": "execute_result"
    }
   ],
   "source": [
    "js"
   ]
  },
  {
   "cell_type": "code",
   "execution_count": 8,
   "metadata": {
    "collapsed": true
   },
   "outputs": [],
   "source": [
    "from dataneeds.engine.dask_bag import DaskBagEngine"
   ]
  },
  {
   "cell_type": "code",
   "execution_count": 9,
   "metadata": {
    "collapsed": true
   },
   "outputs": [],
   "source": [
    "from dask.async import get_sync"
   ]
  },
  {
   "cell_type": "code",
   "execution_count": 10,
   "metadata": {
    "collapsed": false
   },
   "outputs": [],
   "source": [
    "import dask.bag as db"
   ]
  },
  {
   "cell_type": "code",
   "execution_count": 11,
   "metadata": {
    "collapsed": true
   },
   "outputs": [],
   "source": [
    "e = DaskBagEngine()"
   ]
  },
  {
   "cell_type": "code",
   "execution_count": 12,
   "metadata": {
    "collapsed": false
   },
   "outputs": [
    {
     "data": {
      "text/plain": [
       "[(0, 0, 'A', 1, 'B', 0.3),\n",
       " (1, 0, 'A', 2, 'C', 0.2),\n",
       " (2, 1, 'B', 0, 'A', 0.2),\n",
       " (3, 1, 'B', 1, 'B', 1.0),\n",
       " (4, 1, 'B', 2, 'C', 0.4)]"
      ]
     },
     "execution_count": 12,
     "metadata": {},
     "output_type": "execute_result"
    }
   ],
   "source": [
    "e.resolve(E.items, rs, js).compute(get=get_sync)"
   ]
  },
  {
   "cell_type": "code",
   "execution_count": null,
   "metadata": {
    "collapsed": true
   },
   "outputs": [],
   "source": []
  }
 ],
 "metadata": {
  "kernelspec": {
   "display_name": "Python 3",
   "language": "python",
   "name": "python3"
  },
  "language_info": {
   "codemirror_mode": {
    "name": "ipython",
    "version": 3
   },
   "file_extension": ".py",
   "mimetype": "text/x-python",
   "name": "python",
   "nbconvert_exporter": "python",
   "pygments_lexer": "ipython3",
   "version": "3.4.4"
  }
 },
 "nbformat": 4,
 "nbformat_minor": 0
}
